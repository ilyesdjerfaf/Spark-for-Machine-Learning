{
 "cells": [
  {
   "cell_type": "markdown",
   "metadata": {},
   "source": [
    "# Consulting Project \n",
    "## Recommender Systems"
   ]
  },
  {
   "cell_type": "markdown",
   "metadata": {},
   "source": [
    "The whole world seems to be hearing about your new amazing abilities to analyze big data and build useful systems for them! You've just taken up a new contract with a new online food delivery company. This company is trying to differentiate itself by recommending new meals to customers based off of other customers likings.\n",
    "\n",
    "Can you build them a recommendation system?\n",
    "\n",
    "Your final result should be in the form of a function that can take in a Spark DataFrame of a single customer's ratings for various meals and output their top 3 suggested meals."
   ]
  },
  {
   "cell_type": "markdown",
   "metadata": {},
   "source": [
    "# Spark Session"
   ]
  },
  {
   "cell_type": "code",
   "execution_count": 1,
   "metadata": {
    "collapsed": false
   },
   "outputs": [],
   "source": [
    "from pyspark.sql import SparkSession"
   ]
  },
  {
   "cell_type": "code",
   "execution_count": 2,
   "metadata": {
    "collapsed": false
   },
   "outputs": [
    {
     "name": "stderr",
     "output_type": "stream",
     "text": [
      "23/08/21 10:47:11 WARN Utils: Your hostname, Blade-15-Base-Model resolves to a loopback address: 127.0.1.1; using 192.168.0.22 instead (on interface wlo1)\n",
      "23/08/21 10:47:11 WARN Utils: Set SPARK_LOCAL_IP if you need to bind to another address\n",
      "Setting default log level to \"WARN\".\n",
      "To adjust logging level use sc.setLogLevel(newLevel). For SparkR, use setLogLevel(newLevel).\n",
      "23/08/21 10:47:12 WARN NativeCodeLoader: Unable to load native-hadoop library for your platform... using builtin-java classes where applicable\n"
     ]
    }
   ],
   "source": [
    "spark = SparkSession.builder.appName('meal_recommendation').getOrCreate()"
   ]
  },
  {
   "cell_type": "code",
   "execution_count": 3,
   "metadata": {
    "collapsed": true
   },
   "outputs": [],
   "source": [
    "from pyspark.ml.evaluation import RegressionEvaluator\n",
    "from pyspark.ml.recommendation import ALS"
   ]
  },
  {
   "cell_type": "markdown",
   "metadata": {},
   "source": [
    "# Reading Data"
   ]
  },
  {
   "cell_type": "code",
   "execution_count": 4,
   "metadata": {
    "collapsed": true
   },
   "outputs": [],
   "source": [
    "data = spark.read.csv('Meal_Info.csv',inferSchema=True,header=True)"
   ]
  },
  {
   "cell_type": "code",
   "execution_count": 5,
   "metadata": {},
   "outputs": [
    {
     "name": "stdout",
     "output_type": "stream",
     "text": [
      "+------+------+------+--------+--------------------+\n",
      "|mealId|rating|userId|mealskey|           meal_name|\n",
      "+------+------+------+--------+--------------------+\n",
      "|     2|   3.0|     0|     2.0|       Chicken Curry|\n",
      "|     3|   1.0|     0|     3.0|Spicy Chicken Nug...|\n",
      "|     5|   2.0|     0|     5.0|           Hamburger|\n",
      "|     9|   4.0|     0|     9.0|       Taco Surprise|\n",
      "|    11|   1.0|     0|    11.0|            Meatloaf|\n",
      "|    12|   2.0|     0|    12.0|        Ceaser Salad|\n",
      "|    15|   1.0|     0|    15.0|            BBQ Ribs|\n",
      "|    17|   1.0|     0|    17.0|         Sushi Plate|\n",
      "|    19|   1.0|     0|    19.0|Cheesesteak Sandw...|\n",
      "|    21|   1.0|     0|    21.0|             Lasagna|\n",
      "|    23|   1.0|     0|    23.0|      Orange Chicken|\n",
      "|    26|   3.0|     0|    26.0|    Spicy Beef Plate|\n",
      "|    27|   1.0|     0|    27.0|Salmon with Mashe...|\n",
      "|    28|   1.0|     0|    28.0| Penne Tomatoe Pasta|\n",
      "|    29|   1.0|     0|    29.0|        Pork Sliders|\n",
      "|    30|   1.0|     0|    30.0| Vietnamese Sandwich|\n",
      "|    31|   1.0|     0|    31.0|        Chicken Wrap|\n",
      "|    34|   1.0|     0|    null|       Cowboy Burger|\n",
      "|    37|   1.0|     0|    null|       Cowboy Burger|\n",
      "|    41|   2.0|     0|    null|       Cowboy Burger|\n",
      "+------+------+------+--------+--------------------+\n",
      "only showing top 20 rows\n",
      "\n"
     ]
    }
   ],
   "source": [
    "data.show()"
   ]
  },
  {
   "cell_type": "markdown",
   "metadata": {},
   "source": [
    "# Preprocessing"
   ]
  },
  {
   "cell_type": "markdown",
   "metadata": {},
   "source": [
    "## As an information, we don't need the mealid we will work just with the mealskey"
   ]
  },
  {
   "cell_type": "code",
   "execution_count": 6,
   "metadata": {},
   "outputs": [],
   "source": [
    "df = data.drop(\"mealId\")"
   ]
  },
  {
   "cell_type": "code",
   "execution_count": 7,
   "metadata": {},
   "outputs": [
    {
     "name": "stdout",
     "output_type": "stream",
     "text": [
      "+------+------+--------+--------------------+\n",
      "|rating|userId|mealskey|           meal_name|\n",
      "+------+------+--------+--------------------+\n",
      "|   3.0|     0|     2.0|       Chicken Curry|\n",
      "|   1.0|     0|     3.0|Spicy Chicken Nug...|\n",
      "|   2.0|     0|     5.0|           Hamburger|\n",
      "|   4.0|     0|     9.0|       Taco Surprise|\n",
      "|   1.0|     0|    11.0|            Meatloaf|\n",
      "|   2.0|     0|    12.0|        Ceaser Salad|\n",
      "|   1.0|     0|    15.0|            BBQ Ribs|\n",
      "|   1.0|     0|    17.0|         Sushi Plate|\n",
      "|   1.0|     0|    19.0|Cheesesteak Sandw...|\n",
      "|   1.0|     0|    21.0|             Lasagna|\n",
      "|   1.0|     0|    23.0|      Orange Chicken|\n",
      "|   3.0|     0|    26.0|    Spicy Beef Plate|\n",
      "|   1.0|     0|    27.0|Salmon with Mashe...|\n",
      "|   1.0|     0|    28.0| Penne Tomatoe Pasta|\n",
      "|   1.0|     0|    29.0|        Pork Sliders|\n",
      "|   1.0|     0|    30.0| Vietnamese Sandwich|\n",
      "|   1.0|     0|    31.0|        Chicken Wrap|\n",
      "|   1.0|     0|    null|       Cowboy Burger|\n",
      "|   1.0|     0|    null|       Cowboy Burger|\n",
      "|   2.0|     0|    null|       Cowboy Burger|\n",
      "+------+------+--------+--------------------+\n",
      "only showing top 20 rows\n",
      "\n"
     ]
    }
   ],
   "source": [
    "df.show()"
   ]
  },
  {
   "cell_type": "code",
   "execution_count": 8,
   "metadata": {},
   "outputs": [
    {
     "data": {
      "text/plain": [
       "1501"
      ]
     },
     "execution_count": 8,
     "metadata": {},
     "output_type": "execute_result"
    }
   ],
   "source": [
    "df.count()"
   ]
  },
  {
   "cell_type": "markdown",
   "metadata": {},
   "source": [
    "## Droping duplicates"
   ]
  },
  {
   "cell_type": "code",
   "execution_count": 9,
   "metadata": {},
   "outputs": [],
   "source": [
    "df = df.dropDuplicates([\"rating\", \"userId\", \"mealskey\", \"meal_name\"])"
   ]
  },
  {
   "cell_type": "code",
   "execution_count": 10,
   "metadata": {},
   "outputs": [
    {
     "name": "stdout",
     "output_type": "stream",
     "text": [
      "+------+------+--------+--------------------+\n",
      "|rating|userId|mealskey|           meal_name|\n",
      "+------+------+--------+--------------------+\n",
      "|   3.0|     3|    null|       Cowboy Burger|\n",
      "|   1.0|     8|     9.0|       Taco Surprise|\n",
      "|   1.0|    24|    null|       Cowboy Burger|\n",
      "|   3.0|    29|    17.0|         Sushi Plate|\n",
      "|   1.0|     4|     8.0|   Chicken Chow Mein|\n",
      "|   1.0|     4|    11.0|            Meatloaf|\n",
      "|   1.0|     5|    null|       Cowboy Burger|\n",
      "|   2.0|     8|     3.0|Spicy Chicken Nug...|\n",
      "|   3.0|    13|    29.0|        Pork Sliders|\n",
      "|   1.0|    26|    null|       Cowboy Burger|\n",
      "|   1.0|    28|     6.0|  Spicy Pork Sliders|\n",
      "|   3.0|     6|    null|       Cowboy Burger|\n",
      "|   3.0|    14|    31.0|        Chicken Wrap|\n",
      "|   2.0|    20|    30.0| Vietnamese Sandwich|\n",
      "|   5.0|     7|    25.0| Roast Beef Sandwich|\n",
      "|   3.0|    26|    18.0|     Pepperoni Pizza|\n",
      "|   1.0|     4|    17.0|         Sushi Plate|\n",
      "|   3.0|     5|    null|       Cowboy Burger|\n",
      "|   2.0|     6|    null|       Cowboy Burger|\n",
      "|   1.0|    18|    15.0|            BBQ Ribs|\n",
      "+------+------+--------+--------------------+\n",
      "only showing top 20 rows\n",
      "\n"
     ]
    }
   ],
   "source": [
    "df.show()"
   ]
  },
  {
   "cell_type": "code",
   "execution_count": 11,
   "metadata": {},
   "outputs": [
    {
     "data": {
      "text/plain": [
       "622"
      ]
     },
     "execution_count": 11,
     "metadata": {},
     "output_type": "execute_result"
    }
   ],
   "source": [
    "df.count()"
   ]
  },
  {
   "cell_type": "markdown",
   "metadata": {},
   "source": [
    "# Filling the missing values in the **mealskey**"
   ]
  },
  {
   "cell_type": "code",
   "execution_count": 12,
   "metadata": {},
   "outputs": [
    {
     "name": "stdout",
     "output_type": "stream",
     "text": [
      "Number of unique meal names: 33\n"
     ]
    }
   ],
   "source": [
    "# Count the number of unique meal names\n",
    "unique_meal_count = df.select(\"meal_name\").distinct().count()\n",
    "\n",
    "print(\"Number of unique meal names:\", unique_meal_count)"
   ]
  },
  {
   "cell_type": "code",
   "execution_count": 13,
   "metadata": {},
   "outputs": [
    {
     "name": "stdout",
     "output_type": "stream",
     "text": [
      "31.0\n"
     ]
    }
   ],
   "source": [
    "from pyspark.sql.functions import max\n",
    "max_val = df.select(max(df['mealskey'])).collect()\n",
    "print(max_val[0][0])"
   ]
  },
  {
   "cell_type": "code",
   "execution_count": 14,
   "metadata": {},
   "outputs": [
    {
     "name": "stdout",
     "output_type": "stream",
     "text": [
      "0.0\n"
     ]
    }
   ],
   "source": [
    "from pyspark.sql.functions import min\n",
    "min_val = df.select(min(df['mealskey'])).collect()\n",
    "print(min_val[0][0])"
   ]
  },
  {
   "cell_type": "code",
   "execution_count": 15,
   "metadata": {},
   "outputs": [
    {
     "name": "stdout",
     "output_type": "stream",
     "text": [
      "Number of unique meal keys: 33\n"
     ]
    }
   ],
   "source": [
    "# Count the number of unique meal names\n",
    "unique_meal_count = df.select(\"mealskey\").distinct().count()\n",
    "\n",
    "print(\"Number of unique meal keys:\", unique_meal_count)"
   ]
  },
  {
   "cell_type": "code",
   "execution_count": 16,
   "metadata": {},
   "outputs": [],
   "source": [
    "df = df.na.fill(df.select(max(df['mealskey'])).collect()[0][0]+1,['mealskey'])"
   ]
  },
  {
   "cell_type": "code",
   "execution_count": 17,
   "metadata": {},
   "outputs": [
    {
     "name": "stdout",
     "output_type": "stream",
     "text": [
      "+------+------+--------+--------------------+\n",
      "|rating|userId|mealskey|           meal_name|\n",
      "+------+------+--------+--------------------+\n",
      "|   3.0|     3|    32.0|       Cowboy Burger|\n",
      "|   1.0|     8|     9.0|       Taco Surprise|\n",
      "|   1.0|    24|    32.0|       Cowboy Burger|\n",
      "|   3.0|    29|    17.0|         Sushi Plate|\n",
      "|   1.0|     4|     8.0|   Chicken Chow Mein|\n",
      "|   1.0|     4|    11.0|            Meatloaf|\n",
      "|   1.0|     5|    32.0|       Cowboy Burger|\n",
      "|   2.0|     8|     3.0|Spicy Chicken Nug...|\n",
      "|   3.0|    13|    29.0|        Pork Sliders|\n",
      "|   1.0|    26|    32.0|       Cowboy Burger|\n",
      "|   1.0|    28|     6.0|  Spicy Pork Sliders|\n",
      "|   3.0|     6|    32.0|       Cowboy Burger|\n",
      "|   3.0|    14|    31.0|        Chicken Wrap|\n",
      "|   2.0|    20|    30.0| Vietnamese Sandwich|\n",
      "|   5.0|     7|    25.0| Roast Beef Sandwich|\n",
      "|   3.0|    26|    18.0|     Pepperoni Pizza|\n",
      "|   1.0|     4|    17.0|         Sushi Plate|\n",
      "|   3.0|     5|    32.0|       Cowboy Burger|\n",
      "|   2.0|     6|    32.0|       Cowboy Burger|\n",
      "|   1.0|    18|    15.0|            BBQ Ribs|\n",
      "+------+------+--------+--------------------+\n",
      "only showing top 20 rows\n",
      "\n"
     ]
    }
   ],
   "source": [
    "df.show()"
   ]
  },
  {
   "cell_type": "code",
   "execution_count": 18,
   "metadata": {},
   "outputs": [],
   "source": [
    "from pyspark.sql.functions import col, when"
   ]
  },
  {
   "cell_type": "code",
   "execution_count": 19,
   "metadata": {},
   "outputs": [
    {
     "name": "stdout",
     "output_type": "stream",
     "text": [
      "+------+------+--------+--------------------+\n",
      "|rating|userId|mealskey|           meal_name|\n",
      "+------+------+--------+--------------------+\n",
      "|   3.0|     3|      32|       Cowboy Burger|\n",
      "|   1.0|     8|       9|       Taco Surprise|\n",
      "|   1.0|    24|      32|       Cowboy Burger|\n",
      "|   3.0|    29|      17|         Sushi Plate|\n",
      "|   1.0|     4|       8|   Chicken Chow Mein|\n",
      "|   1.0|     4|      11|            Meatloaf|\n",
      "|   1.0|     5|      32|       Cowboy Burger|\n",
      "|   2.0|     8|       3|Spicy Chicken Nug...|\n",
      "|   3.0|    13|      29|        Pork Sliders|\n",
      "|   1.0|    26|      32|       Cowboy Burger|\n",
      "|   1.0|    28|       6|  Spicy Pork Sliders|\n",
      "|   3.0|     6|      32|       Cowboy Burger|\n",
      "|   3.0|    14|      31|        Chicken Wrap|\n",
      "|   2.0|    20|      30| Vietnamese Sandwich|\n",
      "|   5.0|     7|      25| Roast Beef Sandwich|\n",
      "|   3.0|    26|      18|     Pepperoni Pizza|\n",
      "|   1.0|     4|      17|         Sushi Plate|\n",
      "|   3.0|     5|      32|       Cowboy Burger|\n",
      "|   2.0|     6|      32|       Cowboy Burger|\n",
      "|   1.0|    18|      15|            BBQ Ribs|\n",
      "+------+------+--------+--------------------+\n",
      "only showing top 20 rows\n",
      "\n"
     ]
    }
   ],
   "source": [
    "df = df.withColumn(\"mealskey\", col(\"mealskey\").cast(\"int\"))\n",
    "df.show()"
   ]
  },
  {
   "cell_type": "markdown",
   "metadata": {},
   "source": [
    "# Split Train Test"
   ]
  },
  {
   "cell_type": "code",
   "execution_count": 20,
   "metadata": {
    "collapsed": true
   },
   "outputs": [],
   "source": [
    "(training, test) = df.randomSplit([0.8, 0.2])"
   ]
  },
  {
   "cell_type": "code",
   "execution_count": 21,
   "metadata": {},
   "outputs": [
    {
     "name": "stdout",
     "output_type": "stream",
     "text": [
      "+------+------+--------+--------------------+\n",
      "|rating|userId|mealskey|           meal_name|\n",
      "+------+------+--------+--------------------+\n",
      "|   1.0|     0|       3|Spicy Chicken Nug...|\n",
      "|   1.0|     0|      11|            Meatloaf|\n",
      "|   1.0|     0|      15|            BBQ Ribs|\n",
      "|   1.0|     0|      17|         Sushi Plate|\n",
      "|   1.0|     0|      21|             Lasagna|\n",
      "|   1.0|     0|      23|      Orange Chicken|\n",
      "|   1.0|     0|      27|Salmon with Mashe...|\n",
      "|   1.0|     0|      28| Penne Tomatoe Pasta|\n",
      "|   1.0|     0|      29|        Pork Sliders|\n",
      "|   1.0|     0|      30| Vietnamese Sandwich|\n",
      "|   1.0|     0|      31|        Chicken Wrap|\n",
      "|   1.0|     0|      32|       Cowboy Burger|\n",
      "|   1.0|     1|       3|Spicy Chicken Nug...|\n",
      "|   1.0|     1|       6|  Spicy Pork Sliders|\n",
      "|   1.0|     1|      12|        Ceaser Salad|\n",
      "|   1.0|     1|      13|Mandarin Chicken ...|\n",
      "|   1.0|     1|      14|    Kung Pao Chicken|\n",
      "|   1.0|     1|      16|    Fried Rice Plate|\n",
      "|   1.0|     1|      19|Cheesesteak Sandw...|\n",
      "|   1.0|     1|      27|Salmon with Mashe...|\n",
      "+------+------+--------+--------------------+\n",
      "only showing top 20 rows\n",
      "\n"
     ]
    }
   ],
   "source": [
    "training.show()"
   ]
  },
  {
   "cell_type": "code",
   "execution_count": 22,
   "metadata": {},
   "outputs": [
    {
     "data": {
      "text/plain": [
       "516"
      ]
     },
     "execution_count": 22,
     "metadata": {},
     "output_type": "execute_result"
    }
   ],
   "source": [
    "training.count()"
   ]
  },
  {
   "cell_type": "code",
   "execution_count": 23,
   "metadata": {},
   "outputs": [],
   "source": [
    "training = training.dropDuplicates([\"rating\", \"userId\", \"mealskey\", \"meal_name\"])"
   ]
  },
  {
   "cell_type": "code",
   "execution_count": 24,
   "metadata": {},
   "outputs": [
    {
     "name": "stdout",
     "output_type": "stream",
     "text": [
      "+------+------+--------+--------------------+\n",
      "|rating|userId|mealskey|           meal_name|\n",
      "+------+------+--------+--------------------+\n",
      "|   1.0|    22|      16|    Fried Rice Plate|\n",
      "|   1.0|    15|      13|Mandarin Chicken ...|\n",
      "|   1.0|    22|      26|    Spicy Beef Plate|\n",
      "|   1.0|    23|      12|        Ceaser Salad|\n",
      "|   2.0|    16|      30| Vietnamese Sandwich|\n",
      "|   4.0|    22|      32|       Cowboy Burger|\n",
      "|   3.0|    12|      32|       Cowboy Burger|\n",
      "|   5.0|    11|      27|Salmon with Mashe...|\n",
      "|   1.0|     5|      27|Salmon with Mashe...|\n",
      "|   1.0|     6|      28| Penne Tomatoe Pasta|\n",
      "|   1.0|    23|      28| Penne Tomatoe Pasta|\n",
      "|   1.0|    27|      29|        Pork Sliders|\n",
      "|   1.0|     3|      19|Cheesesteak Sandw...|\n",
      "|   1.0|     5|       4|Pretzels and Chee...|\n",
      "|   1.0|    18|      20|     Southwest Salad|\n",
      "|   1.0|    20|      32|       Cowboy Burger|\n",
      "|   2.0|     7|      32|       Cowboy Burger|\n",
      "|   1.0|    18|       1|             Burrito|\n",
      "|   1.0|    24|       4|Pretzels and Chee...|\n",
      "|   2.0|     8|       4|Pretzels and Chee...|\n",
      "+------+------+--------+--------------------+\n",
      "only showing top 20 rows\n",
      "\n"
     ]
    }
   ],
   "source": [
    "training.show()"
   ]
  },
  {
   "cell_type": "code",
   "execution_count": 25,
   "metadata": {},
   "outputs": [
    {
     "data": {
      "text/plain": [
       "516"
      ]
     },
     "execution_count": 25,
     "metadata": {},
     "output_type": "execute_result"
    }
   ],
   "source": [
    "training.count()"
   ]
  },
  {
   "cell_type": "code",
   "execution_count": 26,
   "metadata": {
    "collapsed": false
   },
   "outputs": [],
   "source": [
    "# Build the recommendation model using ALS on the training data\n",
    "als = ALS(maxIter=5, regParam=0.01, userCol=\"userId\", itemCol=\"mealskey\", ratingCol=\"rating\")\n",
    "model = als.fit(training)"
   ]
  },
  {
   "cell_type": "code",
   "execution_count": 27,
   "metadata": {
    "collapsed": true
   },
   "outputs": [
    {
     "name": "stdout",
     "output_type": "stream",
     "text": [
      "+------+------+--------+--------------------+----------+\n",
      "|rating|userId|mealskey|           meal_name|prediction|\n",
      "+------+------+--------+--------------------+----------+\n",
      "|   1.0|     6|       0|        Cheese Pizza| 1.0385565|\n",
      "|   1.0|     6|       6|  Spicy Pork Sliders| 2.5688777|\n",
      "|   1.0|     6|      18|     Pepperoni Pizza| 1.0703783|\n",
      "|   1.0|     6|      26|    Spicy Beef Plate|  1.613658|\n",
      "|   1.0|     5|       1|             Burrito|0.44783443|\n",
      "|   1.0|     5|       8|   Chicken Chow Mein| 2.4487205|\n",
      "|   1.0|     5|      31|        Chicken Wrap|0.33494687|\n",
      "|   1.0|     9|       3|Spicy Chicken Nug...|  2.419892|\n",
      "|   1.0|     9|      21|             Lasagna|    2.3312|\n",
      "|   1.0|     4|       6|  Spicy Pork Sliders|0.73405176|\n",
      "|   1.0|     4|       9|       Taco Surprise| 1.1558318|\n",
      "|   1.0|     4|      11|            Meatloaf| 0.3491946|\n",
      "|   1.0|     4|      24|               Chili| 1.3887255|\n",
      "|   1.0|     8|       5|           Hamburger| 1.3479929|\n",
      "|   1.0|     8|       7|              Nachos| 2.3065183|\n",
      "|   1.0|     8|      18|     Pepperoni Pizza| 2.7444322|\n",
      "|   1.0|     7|      18|     Pepperoni Pizza| 1.7518694|\n",
      "|   1.0|     7|      32|       Cowboy Burger| 2.8983462|\n",
      "|   1.0|     2|       6|  Spicy Pork Sliders|0.92505276|\n",
      "|   1.0|     2|      32|       Cowboy Burger|   3.48135|\n",
      "+------+------+--------+--------------------+----------+\n",
      "only showing top 20 rows\n",
      "\n",
      "Root-mean-square error = 1.570837069523432\n"
     ]
    }
   ],
   "source": [
    "# Evaluate the model by computing the RMSE on the test data\n",
    "predictions = model.transform(test)\n",
    "\n",
    "predictions.show()\n",
    "\n",
    "evaluator = RegressionEvaluator(metricName=\"rmse\", labelCol=\"rating\",predictionCol=\"prediction\")\n",
    "rmse = evaluator.evaluate(predictions)\n",
    "print(\"Root-mean-square error = \" + str(rmse))"
   ]
  },
  {
   "cell_type": "markdown",
   "metadata": {},
   "source": [
    "## <span style=\"color:red\">IMPROVING !!"
   ]
  },
  {
   "cell_type": "code",
   "execution_count": 28,
   "metadata": {},
   "outputs": [
    {
     "name": "stdout",
     "output_type": "stream",
     "text": [
      "+------+------+--------+--------------------+----------+\n",
      "|rating|userId|mealskey|           meal_name|prediction|\n",
      "+------+------+--------+--------------------+----------+\n",
      "|   1.0|     0|      19|Cheesesteak Sandw...|       1.0|\n",
      "|   1.0|     2|       6|  Spicy Pork Sliders|       0.0|\n",
      "|   1.0|     2|      32|       Cowboy Burger|       3.0|\n",
      "|   1.0|     4|       6|  Spicy Pork Sliders|       0.0|\n",
      "|   1.0|     4|       9|       Taco Surprise|       1.0|\n",
      "|   1.0|     4|      11|            Meatloaf|       0.0|\n",
      "|   1.0|     4|      24|               Chili|       1.0|\n",
      "|   1.0|     5|       1|             Burrito|       0.0|\n",
      "|   1.0|     5|       8|   Chicken Chow Mein|       2.0|\n",
      "|   1.0|     5|      31|        Chicken Wrap|       0.0|\n",
      "|   1.0|     6|       0|        Cheese Pizza|       1.0|\n",
      "|   1.0|     6|       6|  Spicy Pork Sliders|       2.0|\n",
      "|   1.0|     6|      18|     Pepperoni Pizza|       1.0|\n",
      "|   1.0|     6|      26|    Spicy Beef Plate|       1.0|\n",
      "|   1.0|     7|      18|     Pepperoni Pizza|       1.0|\n",
      "|   1.0|     7|      32|       Cowboy Burger|       2.0|\n",
      "|   1.0|     8|       5|           Hamburger|       1.0|\n",
      "|   1.0|     8|       7|              Nachos|       2.0|\n",
      "|   1.0|     8|      18|     Pepperoni Pizza|       2.0|\n",
      "|   1.0|     9|       3|Spicy Chicken Nug...|       2.0|\n",
      "+------+------+--------+--------------------+----------+\n",
      "only showing top 20 rows\n",
      "\n"
     ]
    }
   ],
   "source": [
    "predictions_2 = predictions.withColumn(\"prediction\", when(col(\"prediction\").cast(\"int\").cast(\"float\") >= 0, col(\"prediction\").cast(\"int\").cast(\"float\")).otherwise(0))\n",
    "predictions_2.show()"
   ]
  },
  {
   "cell_type": "code",
   "execution_count": 29,
   "metadata": {},
   "outputs": [
    {
     "name": "stdout",
     "output_type": "stream",
     "text": [
      "Root-mean-square error = 1.5989383270110533\n"
     ]
    }
   ],
   "source": [
    "rmse = evaluator.evaluate(predictions_2)\n",
    "print(\"Root-mean-square error = \" + str(rmse))"
   ]
  },
  {
   "cell_type": "markdown",
   "metadata": {},
   "source": [
    "## <span style=\"color:green\">IMPROVED !!"
   ]
  },
  {
   "cell_type": "markdown",
   "metadata": {},
   "source": [
    "# CREATING THE OUTPUT FUNCTION"
   ]
  },
  {
   "cell_type": "code",
   "execution_count": 30,
   "metadata": {},
   "outputs": [],
   "source": [
    "def output(single_user):\n",
    "    reccomendations = model.transform(single_user)\n",
    "    reccomendations = reccomendations.orderBy('prediction',ascending=False)\n",
    "    # reccomendations.show()\n",
    "    # Select the top 3 recommended meals\n",
    "    top_3_recommendations = reccomendations.select(\"meal_name\").limit(3).collect()\n",
    "    top_3_meal_names = [row.meal_name for row in top_3_recommendations]\n",
    "    \n",
    "    return top_3_meal_names"
   ]
  },
  {
   "cell_type": "code",
   "execution_count": 31,
   "metadata": {},
   "outputs": [],
   "source": [
    "single_user = test.filter(test['userId']==11)"
   ]
  },
  {
   "cell_type": "code",
   "execution_count": 32,
   "metadata": {},
   "outputs": [
    {
     "data": {
      "text/plain": [
       "['Cowboy Burger', 'Taco Surprise', 'Pepperoni Pizza']"
      ]
     },
     "execution_count": 32,
     "metadata": {},
     "output_type": "execute_result"
    }
   ],
   "source": [
    "output(single_user)"
   ]
  },
  {
   "cell_type": "markdown",
   "metadata": {},
   "source": [
    "#  GOOD WORK !"
   ]
  },
  {
   "cell_type": "markdown",
   "metadata": {},
   "source": [
    "-------------------------------------------------------"
   ]
  },
  {
   "cell_type": "markdown",
   "metadata": {},
   "source": [
    "# Further work \n",
    "\n",
    "### As we can see that there is a none value in the mealskey, we want to be sure that for every meal name there is a corresponding key, for that we are going to use the **STRINGINDEXING** to encode that, we will see how it works"
   ]
  },
  {
   "cell_type": "code",
   "execution_count": 33,
   "metadata": {},
   "outputs": [],
   "source": [
    "from pyspark.ml.feature import StringIndexer"
   ]
  },
  {
   "cell_type": "code",
   "execution_count": 34,
   "metadata": {},
   "outputs": [
    {
     "name": "stdout",
     "output_type": "stream",
     "text": [
      "+------+------+------+--------+--------------------+\n",
      "|mealId|rating|userId|mealskey|           meal_name|\n",
      "+------+------+------+--------+--------------------+\n",
      "|     2|   3.0|     0|     2.0|       Chicken Curry|\n",
      "|     3|   1.0|     0|     3.0|Spicy Chicken Nug...|\n",
      "|     5|   2.0|     0|     5.0|           Hamburger|\n",
      "|     9|   4.0|     0|     9.0|       Taco Surprise|\n",
      "|    11|   1.0|     0|    11.0|            Meatloaf|\n",
      "|    12|   2.0|     0|    12.0|        Ceaser Salad|\n",
      "|    15|   1.0|     0|    15.0|            BBQ Ribs|\n",
      "|    17|   1.0|     0|    17.0|         Sushi Plate|\n",
      "|    19|   1.0|     0|    19.0|Cheesesteak Sandw...|\n",
      "|    21|   1.0|     0|    21.0|             Lasagna|\n",
      "|    23|   1.0|     0|    23.0|      Orange Chicken|\n",
      "|    26|   3.0|     0|    26.0|    Spicy Beef Plate|\n",
      "|    27|   1.0|     0|    27.0|Salmon with Mashe...|\n",
      "|    28|   1.0|     0|    28.0| Penne Tomatoe Pasta|\n",
      "|    29|   1.0|     0|    29.0|        Pork Sliders|\n",
      "|    30|   1.0|     0|    30.0| Vietnamese Sandwich|\n",
      "|    31|   1.0|     0|    31.0|        Chicken Wrap|\n",
      "|    34|   1.0|     0|    null|       Cowboy Burger|\n",
      "|    37|   1.0|     0|    null|       Cowboy Burger|\n",
      "|    41|   2.0|     0|    null|       Cowboy Burger|\n",
      "+------+------+------+--------+--------------------+\n",
      "only showing top 20 rows\n",
      "\n"
     ]
    }
   ],
   "source": [
    "data.show()"
   ]
  },
  {
   "cell_type": "code",
   "execution_count": 35,
   "metadata": {},
   "outputs": [],
   "source": [
    "meal_indexer = StringIndexer(inputCol='meal_name',outputCol='mealIndex') "
   ]
  },
  {
   "cell_type": "code",
   "execution_count": 36,
   "metadata": {},
   "outputs": [
    {
     "name": "stdout",
     "output_type": "stream",
     "text": [
      "+------+------+------+--------+--------------------+---------+\n",
      "|mealId|rating|userId|mealskey|           meal_name|mealIndex|\n",
      "+------+------+------+--------+--------------------+---------+\n",
      "|     2|   3.0|     0|     2.0|       Chicken Curry|      5.0|\n",
      "|     3|   1.0|     0|     3.0|Spicy Chicken Nug...|     27.0|\n",
      "|     5|   2.0|     0|     5.0|           Hamburger|     25.0|\n",
      "|     9|   4.0|     0|     9.0|       Taco Surprise|     14.0|\n",
      "|    11|   1.0|     0|    11.0|            Meatloaf|     29.0|\n",
      "|    12|   2.0|     0|    12.0|        Ceaser Salad|      7.0|\n",
      "|    15|   1.0|     0|    15.0|            BBQ Ribs|      4.0|\n",
      "|    17|   1.0|     0|    17.0|         Sushi Plate|     28.0|\n",
      "|    19|   1.0|     0|    19.0|Cheesesteak Sandw...|      8.0|\n",
      "|    21|   1.0|     0|    21.0|             Lasagna|      9.0|\n",
      "|    23|   1.0|     0|    23.0|      Orange Chicken|     16.0|\n",
      "|    26|   3.0|     0|    26.0|    Spicy Beef Plate|     22.0|\n",
      "|    27|   1.0|     0|    27.0|Salmon with Mashe...|     19.0|\n",
      "|    28|   1.0|     0|    28.0| Penne Tomatoe Pasta|     30.0|\n",
      "|    29|   1.0|     0|    29.0|        Pork Sliders|      1.0|\n",
      "|    30|   1.0|     0|    30.0| Vietnamese Sandwich|     23.0|\n",
      "|    31|   1.0|     0|    31.0|        Chicken Wrap|     15.0|\n",
      "|    34|   1.0|     0|    null|       Cowboy Burger|      0.0|\n",
      "|    37|   1.0|     0|    null|       Cowboy Burger|      0.0|\n",
      "|    41|   2.0|     0|    null|       Cowboy Burger|      0.0|\n",
      "+------+------+------+--------+--------------------+---------+\n",
      "only showing top 20 rows\n",
      "\n"
     ]
    }
   ],
   "source": [
    "indexed = meal_indexer.fit(data).transform(data)\n",
    "\n",
    "indexed.show()"
   ]
  },
  {
   "cell_type": "markdown",
   "metadata": {},
   "source": [
    "<span style=\"color:red\"> NOW WE ARE SURE THAT FOR EVERY MEAL THERE IS A UNIQUE KEY"
   ]
  },
  {
   "cell_type": "code",
   "execution_count": 37,
   "metadata": {},
   "outputs": [
    {
     "name": "stdout",
     "output_type": "stream",
     "text": [
      "+------+------+--------------------+--------+\n",
      "|rating|userId|           meal_name|mealskey|\n",
      "+------+------+--------------------+--------+\n",
      "|   3.0|     0|       Chicken Curry|     5.0|\n",
      "|   1.0|     0|Spicy Chicken Nug...|    27.0|\n",
      "|   2.0|     0|           Hamburger|    25.0|\n",
      "|   4.0|     0|       Taco Surprise|    14.0|\n",
      "|   1.0|     0|            Meatloaf|    29.0|\n",
      "|   2.0|     0|        Ceaser Salad|     7.0|\n",
      "|   1.0|     0|            BBQ Ribs|     4.0|\n",
      "|   1.0|     0|         Sushi Plate|    28.0|\n",
      "|   1.0|     0|Cheesesteak Sandw...|     8.0|\n",
      "|   1.0|     0|             Lasagna|     9.0|\n",
      "|   1.0|     0|      Orange Chicken|    16.0|\n",
      "|   3.0|     0|    Spicy Beef Plate|    22.0|\n",
      "|   1.0|     0|Salmon with Mashe...|    19.0|\n",
      "|   1.0|     0| Penne Tomatoe Pasta|    30.0|\n",
      "|   1.0|     0|        Pork Sliders|     1.0|\n",
      "|   1.0|     0| Vietnamese Sandwich|    23.0|\n",
      "|   1.0|     0|        Chicken Wrap|    15.0|\n",
      "|   1.0|     0|       Cowboy Burger|     0.0|\n",
      "|   1.0|     0|       Cowboy Burger|     0.0|\n",
      "|   2.0|     0|       Cowboy Burger|     0.0|\n",
      "+------+------+--------------------+--------+\n",
      "only showing top 20 rows\n",
      "\n"
     ]
    }
   ],
   "source": [
    "# droping the mealskey\n",
    "indexed = indexed.drop(\"mealskey\",\"mealId\")\n",
    "indexed = indexed.withColumnRenamed(existing=\"mealIndex\", new=\"mealskey\")\n",
    "indexed.show()"
   ]
  },
  {
   "cell_type": "code",
   "execution_count": 38,
   "metadata": {},
   "outputs": [
    {
     "name": "stdout",
     "output_type": "stream",
     "text": [
      "root\n",
      " |-- rating: double (nullable = true)\n",
      " |-- userId: integer (nullable = true)\n",
      " |-- meal_name: string (nullable = true)\n",
      " |-- mealskey: double (nullable = false)\n",
      "\n"
     ]
    }
   ],
   "source": [
    "indexed.printSchema()"
   ]
  },
  {
   "cell_type": "code",
   "execution_count": 40,
   "metadata": {},
   "outputs": [],
   "source": [
    "df = indexed.withColumn(\"mealskey\", col(\"mealskey\").cast(\"int\"))"
   ]
  },
  {
   "cell_type": "code",
   "execution_count": 41,
   "metadata": {},
   "outputs": [
    {
     "name": "stdout",
     "output_type": "stream",
     "text": [
      "+------+------+--------------------+--------+\n",
      "|rating|userId|           meal_name|mealskey|\n",
      "+------+------+--------------------+--------+\n",
      "|   3.0|     0|       Chicken Curry|       5|\n",
      "|   1.0|     0|Spicy Chicken Nug...|      27|\n",
      "|   2.0|     0|           Hamburger|      25|\n",
      "|   4.0|     0|       Taco Surprise|      14|\n",
      "|   1.0|     0|            Meatloaf|      29|\n",
      "|   2.0|     0|        Ceaser Salad|       7|\n",
      "|   1.0|     0|            BBQ Ribs|       4|\n",
      "|   1.0|     0|         Sushi Plate|      28|\n",
      "|   1.0|     0|Cheesesteak Sandw...|       8|\n",
      "|   1.0|     0|             Lasagna|       9|\n",
      "|   1.0|     0|      Orange Chicken|      16|\n",
      "|   3.0|     0|    Spicy Beef Plate|      22|\n",
      "|   1.0|     0|Salmon with Mashe...|      19|\n",
      "|   1.0|     0| Penne Tomatoe Pasta|      30|\n",
      "|   1.0|     0|        Pork Sliders|       1|\n",
      "|   1.0|     0| Vietnamese Sandwich|      23|\n",
      "|   1.0|     0|        Chicken Wrap|      15|\n",
      "|   1.0|     0|       Cowboy Burger|       0|\n",
      "|   1.0|     0|       Cowboy Burger|       0|\n",
      "|   2.0|     0|       Cowboy Burger|       0|\n",
      "+------+------+--------------------+--------+\n",
      "only showing top 20 rows\n",
      "\n"
     ]
    }
   ],
   "source": [
    "df.show()"
   ]
  },
  {
   "cell_type": "code",
   "execution_count": 42,
   "metadata": {},
   "outputs": [],
   "source": [
    "(training, test) = df.randomSplit([0.8, 0.2])"
   ]
  },
  {
   "cell_type": "code",
   "execution_count": 43,
   "metadata": {},
   "outputs": [
    {
     "name": "stdout",
     "output_type": "stream",
     "text": [
      "+------+------+--------------------+--------+\n",
      "|rating|userId|           meal_name|mealskey|\n",
      "+------+------+--------------------+--------+\n",
      "|   1.0|     0|            BBQ Ribs|       4|\n",
      "|   1.0|     0|Cheesesteak Sandw...|       8|\n",
      "|   1.0|     0|        Chicken Wrap|      15|\n",
      "|   1.0|     0|       Cowboy Burger|       0|\n",
      "|   1.0|     0|       Cowboy Burger|       0|\n",
      "|   1.0|     0|       Cowboy Burger|       0|\n",
      "|   1.0|     0|       Cowboy Burger|       0|\n",
      "|   1.0|     0|       Cowboy Burger|       0|\n",
      "|   1.0|     0|       Cowboy Burger|       0|\n",
      "|   1.0|     0|       Cowboy Burger|       0|\n",
      "|   1.0|     0|       Cowboy Burger|       0|\n",
      "|   1.0|     0|       Cowboy Burger|       0|\n",
      "|   1.0|     0|       Cowboy Burger|       0|\n",
      "|   1.0|     0|       Cowboy Burger|       0|\n",
      "|   1.0|     0|       Cowboy Burger|       0|\n",
      "|   1.0|     0|       Cowboy Burger|       0|\n",
      "|   1.0|     0|       Cowboy Burger|       0|\n",
      "|   1.0|     0|       Cowboy Burger|       0|\n",
      "|   1.0|     0|            Meatloaf|      29|\n",
      "|   1.0|     0| Penne Tomatoe Pasta|      30|\n",
      "+------+------+--------------------+--------+\n",
      "only showing top 20 rows\n",
      "\n"
     ]
    }
   ],
   "source": [
    "training.show()"
   ]
  },
  {
   "cell_type": "code",
   "execution_count": 44,
   "metadata": {},
   "outputs": [],
   "source": [
    "training = training.dropDuplicates([\"rating\", \"userId\", \"mealskey\", \"meal_name\"])\n",
    "test = test.dropDuplicates([\"rating\", \"userId\", \"mealskey\", \"meal_name\"])"
   ]
  },
  {
   "cell_type": "code",
   "execution_count": 45,
   "metadata": {},
   "outputs": [
    {
     "name": "stdout",
     "output_type": "stream",
     "text": [
      "+------+------+--------------------+--------+\n",
      "|rating|userId|           meal_name|mealskey|\n",
      "+------+------+--------------------+--------+\n",
      "|   1.0|    15| Roast Beef Sandwich|      21|\n",
      "|   3.0|    26|     Pepperoni Pizza|      17|\n",
      "|   1.0|    11|             Lasagna|       9|\n",
      "|   1.0|    22|    Spicy Beef Plate|      22|\n",
      "|   2.0|    11|       Cowboy Burger|       0|\n",
      "|   2.0|    22|           Hamburger|      25|\n",
      "|   4.0|    28|       Cowboy Burger|       0|\n",
      "|   1.0|    15|       Chicken Curry|       5|\n",
      "|   4.0|     6|       Cowboy Burger|       0|\n",
      "|   1.0|    20|    Spicy Beef Plate|      22|\n",
      "|   1.0|    23|       Chicken Curry|       5|\n",
      "|   2.0|     6|       Cowboy Burger|       0|\n",
      "|   1.0|    11| Roast Beef Sandwich|      21|\n",
      "|   1.0|    28|            BBQ Ribs|       4|\n",
      "|   1.0|    19|        Chicken Wrap|      15|\n",
      "|   1.0|    12|    Kung Pao Chicken|       6|\n",
      "|   2.0|    21| Vietnamese Sandwich|      23|\n",
      "|   4.0|    26|Pretzels and Chee...|      10|\n",
      "|   5.0|    11|       Cowboy Burger|       0|\n",
      "|   1.0|    14|              Nachos|      13|\n",
      "+------+------+--------------------+--------+\n",
      "only showing top 20 rows\n",
      "\n"
     ]
    }
   ],
   "source": [
    "training.show()"
   ]
  },
  {
   "cell_type": "code",
   "execution_count": 46,
   "metadata": {},
   "outputs": [
    {
     "name": "stdout",
     "output_type": "stream",
     "text": [
      "+------+------+--------------------+--------+\n",
      "|rating|userId|           meal_name|mealskey|\n",
      "+------+------+--------------------+--------+\n",
      "|   2.0|    11|       Cowboy Burger|       0|\n",
      "|   4.0|    28|       Cowboy Burger|       0|\n",
      "|   5.0|    15|       Cowboy Burger|       0|\n",
      "|   4.0|    23| Vietnamese Sandwich|      23|\n",
      "|   1.0|    11|        Cheese Pizza|      11|\n",
      "|   2.0|     6|       Cowboy Burger|       0|\n",
      "|   1.0|     0|      Orange Chicken|      16|\n",
      "|   1.0|    27| Roast Beef Sandwich|      21|\n",
      "|   2.0|    20|       Chicken Curry|       5|\n",
      "|   1.0|     6|           Hamburger|      25|\n",
      "|   1.0|     8|            BBQ Ribs|       4|\n",
      "|   1.0|    10|               Chili|      20|\n",
      "|   1.0|    10|       Cowboy Burger|       0|\n",
      "|   1.0|    21|        Cheese Pizza|      11|\n",
      "|   1.0|    26|Salmon with Mashe...|      19|\n",
      "|   1.0|     3|    Fried Rice Plate|      31|\n",
      "|   3.0|    13|       Cowboy Burger|       0|\n",
      "|   4.0|    25|       Cowboy Burger|       0|\n",
      "|   1.0|     3|            BBQ Ribs|       4|\n",
      "|   1.0|     6|       Cowboy Burger|       0|\n",
      "+------+------+--------------------+--------+\n",
      "only showing top 20 rows\n",
      "\n"
     ]
    }
   ],
   "source": [
    "test.show()"
   ]
  },
  {
   "cell_type": "code",
   "execution_count": 47,
   "metadata": {},
   "outputs": [],
   "source": [
    "# Build the recommendation model using ALS on the training data\n",
    "als = ALS(maxIter=5, regParam=0.01, userCol=\"userId\", itemCol=\"mealskey\", ratingCol=\"rating\")\n",
    "model = als.fit(training)"
   ]
  },
  {
   "cell_type": "code",
   "execution_count": 48,
   "metadata": {},
   "outputs": [
    {
     "name": "stdout",
     "output_type": "stream",
     "text": [
      "+------+------+--------------------+--------+----------+\n",
      "|rating|userId|           meal_name|mealskey|prediction|\n",
      "+------+------+--------------------+--------+----------+\n",
      "|   2.0|    11|       Cowboy Burger|       0| 3.0069284|\n",
      "|   4.0|    28|       Cowboy Burger|       0| 3.0166168|\n",
      "|   5.0|    15|       Cowboy Burger|       0| 2.0681782|\n",
      "|   4.0|    23| Vietnamese Sandwich|      23| 2.4728475|\n",
      "|   1.0|    11|        Cheese Pizza|      11|0.37630486|\n",
      "|   2.0|     6|       Cowboy Burger|       0| 2.4545834|\n",
      "|   1.0|     0|      Orange Chicken|      16| 4.4007587|\n",
      "|   1.0|    27| Roast Beef Sandwich|      21|  1.920905|\n",
      "|   2.0|    20|       Chicken Curry|       5| 1.9496555|\n",
      "|   1.0|     6|           Hamburger|      25| 1.7315533|\n",
      "|   1.0|     8|            BBQ Ribs|       4| 1.3841314|\n",
      "|   1.0|    10|               Chili|      20| 1.8290526|\n",
      "|   1.0|    10|       Cowboy Burger|       0|  2.532238|\n",
      "|   1.0|    21|        Cheese Pizza|      11|0.18825442|\n",
      "|   1.0|    26|Salmon with Mashe...|      19| 1.2402015|\n",
      "|   1.0|     3|    Fried Rice Plate|      31| 1.4895086|\n",
      "|   3.0|    13|       Cowboy Burger|       0| 2.4550447|\n",
      "|   4.0|    25|       Cowboy Burger|       0| 2.4446993|\n",
      "|   1.0|     3|            BBQ Ribs|       4| 1.0754529|\n",
      "|   1.0|     6|       Cowboy Burger|       0| 2.4545834|\n",
      "+------+------+--------------------+--------+----------+\n",
      "only showing top 20 rows\n",
      "\n",
      "Root-mean-square error = 1.3297178866167234\n"
     ]
    }
   ],
   "source": [
    "# Evaluate the model by computing the RMSE on the test data\n",
    "predictions = model.transform(test)\n",
    "\n",
    "predictions.show()\n",
    "\n",
    "evaluator = RegressionEvaluator(metricName=\"rmse\", labelCol=\"rating\",predictionCol=\"prediction\")\n",
    "rmse = evaluator.evaluate(predictions)\n",
    "print(\"Root-mean-square error = \" + str(rmse))"
   ]
  },
  {
   "cell_type": "code",
   "execution_count": 49,
   "metadata": {},
   "outputs": [
    {
     "name": "stdout",
     "output_type": "stream",
     "text": [
      "+------+------+--------------------+--------+----------+\n",
      "|rating|userId|           meal_name|mealskey|prediction|\n",
      "+------+------+--------------------+--------+----------+\n",
      "|   2.0|    11|       Cowboy Burger|       0|       3.0|\n",
      "|   4.0|    28|       Cowboy Burger|       0|       3.0|\n",
      "|   5.0|    15|       Cowboy Burger|       0|       2.0|\n",
      "|   4.0|    23| Vietnamese Sandwich|      23|       2.0|\n",
      "|   1.0|    11|        Cheese Pizza|      11|       0.0|\n",
      "|   2.0|     6|       Cowboy Burger|       0|       2.0|\n",
      "|   1.0|     0|      Orange Chicken|      16|       4.0|\n",
      "|   1.0|    27| Roast Beef Sandwich|      21|       1.0|\n",
      "|   2.0|    20|       Chicken Curry|       5|       1.0|\n",
      "|   1.0|     6|           Hamburger|      25|       1.0|\n",
      "|   1.0|     8|            BBQ Ribs|       4|       1.0|\n",
      "|   1.0|    10|               Chili|      20|       1.0|\n",
      "|   1.0|    10|       Cowboy Burger|       0|       2.0|\n",
      "|   1.0|    21|        Cheese Pizza|      11|       0.0|\n",
      "|   1.0|    26|Salmon with Mashe...|      19|       1.0|\n",
      "|   1.0|     3|    Fried Rice Plate|      31|       1.0|\n",
      "|   3.0|    13|       Cowboy Burger|       0|       2.0|\n",
      "|   4.0|    25|       Cowboy Burger|       0|       2.0|\n",
      "|   1.0|     3|            BBQ Ribs|       4|       1.0|\n",
      "|   1.0|     6|       Cowboy Burger|       0|       2.0|\n",
      "+------+------+--------------------+--------+----------+\n",
      "only showing top 20 rows\n",
      "\n",
      "Root-mean-square error = 1.3676944963310034\n"
     ]
    }
   ],
   "source": [
    "predictions_2 = predictions.withColumn(\"prediction\", when(col(\"prediction\").cast(\"int\").cast(\"float\") >= 0, col(\"prediction\").cast(\"int\").cast(\"float\")).otherwise(0))\n",
    "predictions_2.show()\n",
    "rmse = evaluator.evaluate(predictions_2)\n",
    "print(\"Root-mean-square error = \" + str(rmse))"
   ]
  },
  {
   "cell_type": "code",
   "execution_count": 50,
   "metadata": {},
   "outputs": [
    {
     "data": {
      "text/plain": [
       "['Cowboy Burger', 'Taco Surprise', 'Pepperoni Pizza']"
      ]
     },
     "execution_count": 50,
     "metadata": {},
     "output_type": "execute_result"
    }
   ],
   "source": [
    "output(single_user)"
   ]
  },
  {
   "cell_type": "markdown",
   "metadata": {},
   "source": [
    "# <span style=\"color:green\">PROJECT DONE "
   ]
  }
 ],
 "metadata": {
  "anaconda-cloud": {},
  "kernelspec": {
   "display_name": "Python 3",
   "language": "python",
   "name": "python3"
  },
  "language_info": {
   "codemirror_mode": {
    "name": "ipython",
    "version": 3
   },
   "file_extension": ".py",
   "mimetype": "text/x-python",
   "name": "python",
   "nbconvert_exporter": "python",
   "pygments_lexer": "ipython3",
   "version": "3.10.12"
  }
 },
 "nbformat": 4,
 "nbformat_minor": 0
}
