{
 "cells": [
  {
   "cell_type": "markdown",
   "metadata": {},
   "source": [
    "# Clustering Consulting Project \n",
    "\n",
    "A large technology firm needs your help, they've been hacked! Luckily their forensic engineers have grabbed valuable data about the hacks, including information like session time,locations, wpm typing speed, etc. The forensic engineer relates to you what she has been able to figure out so far, she has been able to grab meta data of each session that the hackers used to connect to their servers. These are the features of the data:\n",
    "\n",
    "* 'Session_Connection_Time': How long the session lasted in minutes\n",
    "* 'Bytes Transferred': Number of MB transferred during session\n",
    "* 'Kali_Trace_Used': Indicates if the hacker was using Kali Linux\n",
    "* 'Servers_Corrupted': Number of server corrupted during the attack\n",
    "* 'Pages_Corrupted': Number of pages illegally accessed\n",
    "* 'Location': Location attack came from (Probably useless because the hackers used VPNs)\n",
    "* 'WPM_Typing_Speed': Their estimated typing speed based on session logs.\n",
    "\n",
    "\n",
    "The technology firm has 3 potential hackers that perpetrated the attack. Their certain of the first two hackers but they aren't very sure if the third hacker was involved or not. They have requested your help! Can you help figure out whether or not the third suspect had anything to do with the attacks, or was it just two hackers? It's probably not possible to know for sure, but maybe what you've just learned about Clustering can help!\n",
    "\n",
    "**One last key fact, the forensic engineer knows that the hackers trade off attacks. Meaning they should each have roughly the same amount of attacks. For example if there were 100 total attacks, then in a 2 hacker situation each should have about 50 hacks, in a three hacker situation each would have about 33 hacks. The engineer believes this is the key element to solving this, but doesn't know how to distinguish this unlabeled data into groups of hackers.**"
   ]
  },
  {
   "cell_type": "markdown",
   "metadata": {},
   "source": [
    "# Spark session"
   ]
  },
  {
   "cell_type": "code",
   "execution_count": 1,
   "metadata": {},
   "outputs": [],
   "source": [
    "from pyspark.sql import SparkSession"
   ]
  },
  {
   "cell_type": "code",
   "execution_count": 3,
   "metadata": {},
   "outputs": [
    {
     "name": "stderr",
     "output_type": "stream",
     "text": [
      "23/08/18 21:21:35 WARN Utils: Your hostname, Blade-15-Base-Model resolves to a loopback address: 127.0.1.1; using 192.168.1.231 instead (on interface wlo1)\n",
      "23/08/18 21:21:35 WARN Utils: Set SPARK_LOCAL_IP if you need to bind to another address\n",
      "Setting default log level to \"WARN\".\n",
      "To adjust logging level use sc.setLogLevel(newLevel). For SparkR, use setLogLevel(newLevel).\n",
      "23/08/18 21:21:36 WARN NativeCodeLoader: Unable to load native-hadoop library for your platform... using builtin-java classes where applicable\n",
      "23/08/18 21:21:36 WARN Utils: Service 'SparkUI' could not bind on port 4040. Attempting port 4041.\n"
     ]
    }
   ],
   "source": [
    "spark = SparkSession.builder.appName(\"kmeans project\").getOrCreate()"
   ]
  },
  {
   "cell_type": "markdown",
   "metadata": {},
   "source": [
    "# Read the data"
   ]
  },
  {
   "cell_type": "code",
   "execution_count": 4,
   "metadata": {},
   "outputs": [],
   "source": [
    "df = spark.read.csv(\"hack_data.csv\",inferSchema=True, header=True)"
   ]
  },
  {
   "cell_type": "code",
   "execution_count": 5,
   "metadata": {},
   "outputs": [
    {
     "name": "stdout",
     "output_type": "stream",
     "text": [
      "+-----------------------+-----------------+---------------+-----------------+---------------+--------------------+----------------+\n",
      "|Session_Connection_Time|Bytes Transferred|Kali_Trace_Used|Servers_Corrupted|Pages_Corrupted|            Location|WPM_Typing_Speed|\n",
      "+-----------------------+-----------------+---------------+-----------------+---------------+--------------------+----------------+\n",
      "|                    8.0|           391.09|              1|             2.96|            7.0|            Slovenia|           72.37|\n",
      "|                   20.0|           720.99|              0|             3.04|            9.0|British Virgin Is...|           69.08|\n",
      "|                   31.0|           356.32|              1|             3.71|            8.0|             Tokelau|           70.58|\n",
      "|                    2.0|           228.08|              1|             2.48|            8.0|             Bolivia|            70.8|\n",
      "|                   20.0|            408.5|              0|             3.57|            8.0|                Iraq|           71.28|\n",
      "|                    1.0|           390.69|              1|             2.79|            9.0|    Marshall Islands|           71.57|\n",
      "|                   18.0|           342.97|              1|              5.1|            7.0|             Georgia|           72.32|\n",
      "|                   22.0|           101.61|              1|             3.03|            7.0|         Timor-Leste|           72.03|\n",
      "|                   15.0|           275.53|              1|             3.53|            8.0|Palestinian Terri...|           70.17|\n",
      "|                   12.0|           424.83|              1|             2.53|            8.0|          Bangladesh|           69.99|\n",
      "|                   15.0|           249.09|              1|             3.39|            9.0|Northern Mariana ...|           70.77|\n",
      "|                   32.0|           242.48|              0|             4.24|            8.0|            Zimbabwe|           67.93|\n",
      "|                   23.0|           514.54|              0|             3.18|            8.0|         Isle of Man|           68.56|\n",
      "|                    9.0|           284.77|              0|             3.12|            9.0|Sao Tome and Prin...|           70.82|\n",
      "|                   27.0|           779.25|              1|             2.37|            8.0|              Greece|           72.73|\n",
      "|                   12.0|           307.31|              1|             3.22|            7.0|     Solomon Islands|           67.95|\n",
      "|                   21.0|           355.94|              1|              2.0|            7.0|       Guinea-Bissau|            72.0|\n",
      "|                   10.0|           372.65|              0|             3.33|            7.0|        Burkina Faso|           69.19|\n",
      "|                   20.0|           347.23|              1|             2.33|            7.0|            Mongolia|           70.41|\n",
      "|                   22.0|           456.57|              0|             1.52|            8.0|             Nigeria|           69.35|\n",
      "+-----------------------+-----------------+---------------+-----------------+---------------+--------------------+----------------+\n",
      "only showing top 20 rows\n",
      "\n"
     ]
    }
   ],
   "source": [
    "df.show()"
   ]
  },
  {
   "cell_type": "code",
   "execution_count": 8,
   "metadata": {},
   "outputs": [],
   "source": [
    "df = df.drop(\"Location\")"
   ]
  },
  {
   "cell_type": "code",
   "execution_count": 9,
   "metadata": {},
   "outputs": [
    {
     "name": "stdout",
     "output_type": "stream",
     "text": [
      "+-----------------------+-----------------+---------------+-----------------+---------------+----------------+\n",
      "|Session_Connection_Time|Bytes Transferred|Kali_Trace_Used|Servers_Corrupted|Pages_Corrupted|WPM_Typing_Speed|\n",
      "+-----------------------+-----------------+---------------+-----------------+---------------+----------------+\n",
      "|                    8.0|           391.09|              1|             2.96|            7.0|           72.37|\n",
      "|                   20.0|           720.99|              0|             3.04|            9.0|           69.08|\n",
      "|                   31.0|           356.32|              1|             3.71|            8.0|           70.58|\n",
      "|                    2.0|           228.08|              1|             2.48|            8.0|            70.8|\n",
      "|                   20.0|            408.5|              0|             3.57|            8.0|           71.28|\n",
      "|                    1.0|           390.69|              1|             2.79|            9.0|           71.57|\n",
      "|                   18.0|           342.97|              1|              5.1|            7.0|           72.32|\n",
      "|                   22.0|           101.61|              1|             3.03|            7.0|           72.03|\n",
      "|                   15.0|           275.53|              1|             3.53|            8.0|           70.17|\n",
      "|                   12.0|           424.83|              1|             2.53|            8.0|           69.99|\n",
      "|                   15.0|           249.09|              1|             3.39|            9.0|           70.77|\n",
      "|                   32.0|           242.48|              0|             4.24|            8.0|           67.93|\n",
      "|                   23.0|           514.54|              0|             3.18|            8.0|           68.56|\n",
      "|                    9.0|           284.77|              0|             3.12|            9.0|           70.82|\n",
      "|                   27.0|           779.25|              1|             2.37|            8.0|           72.73|\n",
      "|                   12.0|           307.31|              1|             3.22|            7.0|           67.95|\n",
      "|                   21.0|           355.94|              1|              2.0|            7.0|            72.0|\n",
      "|                   10.0|           372.65|              0|             3.33|            7.0|           69.19|\n",
      "|                   20.0|           347.23|              1|             2.33|            7.0|           70.41|\n",
      "|                   22.0|           456.57|              0|             1.52|            8.0|           69.35|\n",
      "+-----------------------+-----------------+---------------+-----------------+---------------+----------------+\n",
      "only showing top 20 rows\n",
      "\n"
     ]
    }
   ],
   "source": [
    "df.show()"
   ]
  },
  {
   "cell_type": "code",
   "execution_count": 10,
   "metadata": {},
   "outputs": [
    {
     "name": "stderr",
     "output_type": "stream",
     "text": [
      "23/08/18 21:23:41 WARN package: Truncated the string representation of a plan since it was too large. This behavior can be adjusted by setting 'spark.sql.debug.maxToStringFields'.\n"
     ]
    },
    {
     "name": "stdout",
     "output_type": "stream",
     "text": [
      "+-------+-----------------------+------------------+------------------+-----------------+------------------+------------------+\n",
      "|summary|Session_Connection_Time| Bytes Transferred|   Kali_Trace_Used|Servers_Corrupted|   Pages_Corrupted|  WPM_Typing_Speed|\n",
      "+-------+-----------------------+------------------+------------------+-----------------+------------------+------------------+\n",
      "|  count|                    334|               334|               334|              334|               334|               334|\n",
      "|   mean|     30.008982035928145| 607.2452694610777|0.5119760479041916|5.258502994011977|10.838323353293413|57.342395209580864|\n",
      "| stddev|     14.088200614636158|286.33593163576757|0.5006065264451406| 2.30190693339697|  3.06352633036022| 13.41106336843464|\n",
      "|    min|                    1.0|              10.0|                 0|              1.0|               6.0|              40.0|\n",
      "|    max|                   60.0|            1330.5|                 1|             10.0|              15.0|              75.0|\n",
      "+-------+-----------------------+------------------+------------------+-----------------+------------------+------------------+\n",
      "\n"
     ]
    }
   ],
   "source": [
    "df.describe().show()"
   ]
  },
  {
   "cell_type": "markdown",
   "metadata": {},
   "source": [
    "# Preprocessing"
   ]
  },
  {
   "cell_type": "code",
   "execution_count": 11,
   "metadata": {},
   "outputs": [],
   "source": [
    "from pyspark.ml.feature import VectorAssembler"
   ]
  },
  {
   "cell_type": "code",
   "execution_count": 12,
   "metadata": {},
   "outputs": [],
   "source": [
    "assembler = VectorAssembler(inputCols=df.columns, outputCol='features')"
   ]
  },
  {
   "cell_type": "code",
   "execution_count": 13,
   "metadata": {},
   "outputs": [],
   "source": [
    "final_data = assembler.transform(df)"
   ]
  },
  {
   "cell_type": "code",
   "execution_count": 14,
   "metadata": {},
   "outputs": [
    {
     "name": "stdout",
     "output_type": "stream",
     "text": [
      "+-----------------------+-----------------+---------------+-----------------+---------------+----------------+--------------------+\n",
      "|Session_Connection_Time|Bytes Transferred|Kali_Trace_Used|Servers_Corrupted|Pages_Corrupted|WPM_Typing_Speed|            features|\n",
      "+-----------------------+-----------------+---------------+-----------------+---------------+----------------+--------------------+\n",
      "|                    8.0|           391.09|              1|             2.96|            7.0|           72.37|[8.0,391.09,1.0,2...|\n",
      "|                   20.0|           720.99|              0|             3.04|            9.0|           69.08|[20.0,720.99,0.0,...|\n",
      "|                   31.0|           356.32|              1|             3.71|            8.0|           70.58|[31.0,356.32,1.0,...|\n",
      "|                    2.0|           228.08|              1|             2.48|            8.0|            70.8|[2.0,228.08,1.0,2...|\n",
      "|                   20.0|            408.5|              0|             3.57|            8.0|           71.28|[20.0,408.5,0.0,3...|\n",
      "|                    1.0|           390.69|              1|             2.79|            9.0|           71.57|[1.0,390.69,1.0,2...|\n",
      "|                   18.0|           342.97|              1|              5.1|            7.0|           72.32|[18.0,342.97,1.0,...|\n",
      "|                   22.0|           101.61|              1|             3.03|            7.0|           72.03|[22.0,101.61,1.0,...|\n",
      "|                   15.0|           275.53|              1|             3.53|            8.0|           70.17|[15.0,275.53,1.0,...|\n",
      "|                   12.0|           424.83|              1|             2.53|            8.0|           69.99|[12.0,424.83,1.0,...|\n",
      "|                   15.0|           249.09|              1|             3.39|            9.0|           70.77|[15.0,249.09,1.0,...|\n",
      "|                   32.0|           242.48|              0|             4.24|            8.0|           67.93|[32.0,242.48,0.0,...|\n",
      "|                   23.0|           514.54|              0|             3.18|            8.0|           68.56|[23.0,514.54,0.0,...|\n",
      "|                    9.0|           284.77|              0|             3.12|            9.0|           70.82|[9.0,284.77,0.0,3...|\n",
      "|                   27.0|           779.25|              1|             2.37|            8.0|           72.73|[27.0,779.25,1.0,...|\n",
      "|                   12.0|           307.31|              1|             3.22|            7.0|           67.95|[12.0,307.31,1.0,...|\n",
      "|                   21.0|           355.94|              1|              2.0|            7.0|            72.0|[21.0,355.94,1.0,...|\n",
      "|                   10.0|           372.65|              0|             3.33|            7.0|           69.19|[10.0,372.65,0.0,...|\n",
      "|                   20.0|           347.23|              1|             2.33|            7.0|           70.41|[20.0,347.23,1.0,...|\n",
      "|                   22.0|           456.57|              0|             1.52|            8.0|           69.35|[22.0,456.57,0.0,...|\n",
      "+-----------------------+-----------------+---------------+-----------------+---------------+----------------+--------------------+\n",
      "only showing top 20 rows\n",
      "\n"
     ]
    }
   ],
   "source": [
    "final_data.show()"
   ]
  },
  {
   "cell_type": "markdown",
   "metadata": {},
   "source": [
    "# Creating models for the results "
   ]
  },
  {
   "cell_type": "code",
   "execution_count": 15,
   "metadata": {},
   "outputs": [],
   "source": [
    "from pyspark.ml.clustering import KMeans"
   ]
  },
  {
   "cell_type": "code",
   "execution_count": 16,
   "metadata": {},
   "outputs": [],
   "source": [
    "kmeans_two_hackers = KMeans(featuresCol='features',k=2)\n",
    "model_two_hackers = kmeans_two_hackers.fit(final_data)"
   ]
  },
  {
   "cell_type": "code",
   "execution_count": 17,
   "metadata": {},
   "outputs": [],
   "source": [
    "kmeans_three_hackers = KMeans(featuresCol='features',k=3)\n",
    "model_three_hackers = kmeans_three_hackers.fit(final_data)"
   ]
  },
  {
   "cell_type": "code",
   "execution_count": 18,
   "metadata": {},
   "outputs": [],
   "source": [
    "wssse_two_hackers = model_two_hackers.summary.trainingCost\n",
    "wssse_three_hackers = model_three_hackers.summary.trainingCost"
   ]
  },
  {
   "cell_type": "code",
   "execution_count": 19,
   "metadata": {},
   "outputs": [
    {
     "name": "stdout",
     "output_type": "stream",
     "text": [
      "TWO HACKERS   : Within Set Sum of Squared Errors = 6915193.171893844\n",
      "THREE HACKERS : Within Set Sum of Squared Errors = 4008693.712472261\n"
     ]
    }
   ],
   "source": [
    "print(\"TWO HACKERS   : Within Set Sum of Squared Errors = \" + str(wssse_two_hackers))\n",
    "print(\"THREE HACKERS : Within Set Sum of Squared Errors = \" + str(wssse_three_hackers))"
   ]
  },
  {
   "cell_type": "markdown",
   "metadata": {},
   "source": [
    "<span style=\"color:green\">We can see that the WSSSE for THREE HACKERS is way less than the WSSSE for TWO HACKERS</span>\n",
    "\n",
    "- We can then for now that the number of hackers is Three\n",
    "\n",
    "- But lets see the distributions of hackers for both models, because it is the key element !!"
   ]
  },
  {
   "cell_type": "code",
   "execution_count": 20,
   "metadata": {},
   "outputs": [],
   "source": [
    "clustered_data_two = model_two_hackers.transform(final_data)\n",
    "clustered_data_three = model_three_hackers.transform(final_data)"
   ]
  },
  {
   "cell_type": "code",
   "execution_count": 25,
   "metadata": {},
   "outputs": [],
   "source": [
    "clustered_count_two = clustered_data_two.groupBy(\"prediction\").count()\n",
    "clustered_count_three = clustered_data_three.groupBy(\"prediction\").count()"
   ]
  },
  {
   "cell_type": "code",
   "execution_count": 26,
   "metadata": {},
   "outputs": [
    {
     "name": "stdout",
     "output_type": "stream",
     "text": [
      "+----------+-----+\n",
      "|prediction|count|\n",
      "+----------+-----+\n",
      "|         1|  170|\n",
      "|         0|  164|\n",
      "+----------+-----+\n",
      "\n"
     ]
    }
   ],
   "source": [
    "clustered_count_two.show()"
   ]
  },
  {
   "cell_type": "code",
   "execution_count": 27,
   "metadata": {},
   "outputs": [
    {
     "name": "stdout",
     "output_type": "stream",
     "text": [
      "+----------+-----+\n",
      "|prediction|count|\n",
      "+----------+-----+\n",
      "|         1|   92|\n",
      "|         2|  118|\n",
      "|         0|  124|\n",
      "+----------+-----+\n",
      "\n"
     ]
    }
   ],
   "source": [
    "clustered_count_three.show()"
   ]
  },
  {
   "cell_type": "markdown",
   "metadata": {},
   "source": [
    "<span style=\"color:green\">Since the key factor is the distribution of the hacks, then the number of hackers is **2**</span>"
   ]
  }
 ],
 "metadata": {
  "anaconda-cloud": {},
  "kernelspec": {
   "display_name": "Python 3",
   "language": "python",
   "name": "python3"
  },
  "language_info": {
   "codemirror_mode": {
    "name": "ipython",
    "version": 3
   },
   "file_extension": ".py",
   "mimetype": "text/x-python",
   "name": "python",
   "nbconvert_exporter": "python",
   "pygments_lexer": "ipython3",
   "version": "3.10.12"
  }
 },
 "nbformat": 4,
 "nbformat_minor": 0
}
