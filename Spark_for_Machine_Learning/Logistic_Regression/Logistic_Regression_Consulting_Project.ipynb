{
 "cells": [
  {
   "cell_type": "markdown",
   "metadata": {},
   "source": [
    "# Logistic Regression Consulting Project"
   ]
  },
  {
   "cell_type": "markdown",
   "metadata": {
    "collapsed": true
   },
   "source": [
    "## Binary Customer Churn\n",
    "\n",
    "A marketing agency has many customers that use their service to produce ads for the client/customer websites. They've noticed that they have quite a bit of churn in clients. They basically randomly assign account managers right now, but want you to create a machine learning model that will help predict which customers will churn (stop buying their service) so that they can correctly assign the customers most at risk to churn an account manager. Luckily they have some historical data, can you help them out? Create a classification algorithm that will help classify whether or not a customer churned. Then the company can test this against incoming data for future customers to predict which customers will churn and assign them an account manager.\n",
    "\n",
    "The data is saved as customer_churn.csv. Here are the fields and their definitions:\n",
    "\n",
    "    Name : Name of the latest contact at Company\n",
    "    Age: Customer Age\n",
    "    Total_Purchase: Total Ads Purchased\n",
    "    Account_Manager: Binary 0=No manager, 1= Account manager assigned\n",
    "    Years: Totaly Years as a customer\n",
    "    Num_sites: Number of websites that use the service.\n",
    "    Onboard_date: Date that the name of the latest contact was onboarded\n",
    "    Location: Client HQ Address\n",
    "    Company: Name of Client Company\n",
    "    \n",
    "Once you've created the model and evaluated it, test out the model on some new data (you can think of this almost like a hold-out set) that your client has provided, saved under new_customers.csv. The client wants to know which customers are most likely to churn given this data (they don't have the label yet)."
   ]
  },
  {
   "cell_type": "markdown",
   "metadata": {},
   "source": [
    "# SPARK SESSION"
   ]
  },
  {
   "cell_type": "code",
   "execution_count": 38,
   "metadata": {},
   "outputs": [],
   "source": [
    "from pyspark.sql import SparkSession"
   ]
  },
  {
   "cell_type": "code",
   "execution_count": 39,
   "metadata": {},
   "outputs": [],
   "source": [
    "spark = SparkSession.builder.appName('logregconsult').getOrCreate()"
   ]
  },
  {
   "cell_type": "markdown",
   "metadata": {},
   "source": [
    "# IMOORT DATA"
   ]
  },
  {
   "cell_type": "code",
   "execution_count": 40,
   "metadata": {},
   "outputs": [],
   "source": [
    "df = spark.read.csv('customer_churn.csv', inferSchema=True, header=True)"
   ]
  },
  {
   "cell_type": "code",
   "execution_count": 41,
   "metadata": {},
   "outputs": [
    {
     "name": "stdout",
     "output_type": "stream",
     "text": [
      "root\n",
      " |-- Names: string (nullable = true)\n",
      " |-- Age: double (nullable = true)\n",
      " |-- Total_Purchase: double (nullable = true)\n",
      " |-- Account_Manager: integer (nullable = true)\n",
      " |-- Years: double (nullable = true)\n",
      " |-- Num_Sites: double (nullable = true)\n",
      " |-- Onboard_date: timestamp (nullable = true)\n",
      " |-- Location: string (nullable = true)\n",
      " |-- Company: string (nullable = true)\n",
      " |-- Churn: integer (nullable = true)\n",
      "\n"
     ]
    }
   ],
   "source": [
    "df.printSchema()"
   ]
  },
  {
   "cell_type": "code",
   "execution_count": 42,
   "metadata": {},
   "outputs": [
    {
     "name": "stdout",
     "output_type": "stream",
     "text": [
      "+-------------------+----+--------------+---------------+-----+---------+-------------------+--------------------+--------------------+-----+\n",
      "|              Names| Age|Total_Purchase|Account_Manager|Years|Num_Sites|       Onboard_date|            Location|             Company|Churn|\n",
      "+-------------------+----+--------------+---------------+-----+---------+-------------------+--------------------+--------------------+-----+\n",
      "|   Cameron Williams|42.0|       11066.8|              0| 7.22|      8.0|2013-08-30 07:00:40|10265 Elizabeth M...|          Harvey LLC|    1|\n",
      "|      Kevin Mueller|41.0|      11916.22|              0|  6.5|     11.0|2013-08-13 00:38:46|6157 Frank Garden...|          Wilson PLC|    1|\n",
      "|        Eric Lozano|38.0|      12884.75|              0| 6.67|     12.0|2016-06-29 06:20:07|1331 Keith Court ...|Miller, Johnson a...|    1|\n",
      "|      Phillip White|42.0|       8010.76|              0| 6.71|     10.0|2014-04-22 12:43:12|13120 Daniel Moun...|           Smith Inc|    1|\n",
      "|     Cynthia Norton|37.0|       9191.58|              0| 5.56|      9.0|2016-01-19 15:31:15|765 Tricia Row Ka...|          Love-Jones|    1|\n",
      "|   Jessica Williams|48.0|      10356.02|              0| 5.12|      8.0|2009-03-03 23:13:37|6187 Olson Mounta...|        Kelly-Warren|    1|\n",
      "|        Eric Butler|44.0|      11331.58|              1| 5.23|     11.0|2016-12-05 03:35:43|4846 Savannah Roa...|   Reynolds-Sheppard|    1|\n",
      "|      Zachary Walsh|32.0|       9885.12|              1| 6.92|      9.0|2006-03-09 14:50:20|25271 Roy Express...|          Singh-Cole|    1|\n",
      "|        Ashlee Carr|43.0|       14062.6|              1| 5.46|     11.0|2011-09-29 05:47:23|3725 Caroline Str...|           Lopez PLC|    1|\n",
      "|     Jennifer Lynch|40.0|       8066.94|              1| 7.11|     11.0|2006-03-28 15:42:45|363 Sandra Lodge ...|       Reed-Martinez|    1|\n",
      "|       Paula Harris|30.0|      11575.37|              1| 5.22|      8.0|2016-11-13 13:13:01|Unit 8120 Box 916...|Briggs, Lamb and ...|    1|\n",
      "|     Bruce Phillips|45.0|       8771.02|              1| 6.64|     11.0|2015-05-28 12:14:03|Unit 1895 Box 094...|    Figueroa-Maynard|    1|\n",
      "|       Craig Garner|45.0|       8988.67|              1| 4.84|     11.0|2011-02-16 08:10:47|897 Kelley Overpa...|     Abbott-Thompson|    1|\n",
      "|       Nicole Olson|40.0|       8283.32|              1|  5.1|     13.0|2012-11-22 05:35:03|11488 Weaver Cape...|Smith, Kim and Ma...|    1|\n",
      "|     Harold Griffin|41.0|       6569.87|              1|  4.3|     11.0|2015-03-28 02:13:44|1774 Peter Row Ap...|Snyder, Lee and M...|    1|\n",
      "|       James Wright|38.0|      10494.82|              1| 6.81|     12.0|2015-07-22 08:38:40|45408 David Path ...|      Sanders-Pierce|    1|\n",
      "|      Doris Wilkins|45.0|       8213.41|              1| 7.35|     11.0|2006-09-03 06:13:55|28216 Wright Moun...|Andrews, Adams an...|    1|\n",
      "|Katherine Carpenter|43.0|      11226.88|              0| 8.08|     12.0|2006-10-22 04:42:38|Unit 4948 Box 481...|Morgan, Phillips ...|    1|\n",
      "|     Lindsay Martin|53.0|       5515.09|              0| 6.85|      8.0|2015-10-07 00:27:10|69203 Crosby Divi...|      Villanueva LLC|    1|\n",
      "|        Kathy Curry|46.0|        8046.4|              1| 5.69|      8.0|2014-11-06 23:47:14|9569 Caldwell Cre...|Berry, Orr and Ca...|    1|\n",
      "+-------------------+----+--------------+---------------+-----+---------+-------------------+--------------------+--------------------+-----+\n",
      "only showing top 20 rows\n",
      "\n"
     ]
    }
   ],
   "source": [
    "df.show()"
   ]
  },
  {
   "cell_type": "code",
   "execution_count": 43,
   "metadata": {},
   "outputs": [
    {
     "data": {
      "text/plain": [
       "Row(Names='Cameron Williams', Age=42.0, Total_Purchase=11066.8, Account_Manager=0, Years=7.22, Num_Sites=8.0, Onboard_date=datetime.datetime(2013, 8, 30, 7, 0, 40), Location='10265 Elizabeth Mission Barkerburgh, AK 89518', Company='Harvey LLC', Churn=1)"
      ]
     },
     "execution_count": 43,
     "metadata": {},
     "output_type": "execute_result"
    }
   ],
   "source": [
    "df.head()"
   ]
  },
  {
   "cell_type": "markdown",
   "metadata": {},
   "source": [
    "# PREPROCESSING"
   ]
  },
  {
   "cell_type": "code",
   "execution_count": 44,
   "metadata": {},
   "outputs": [
    {
     "data": {
      "text/plain": [
       "['Names',\n",
       " 'Age',\n",
       " 'Total_Purchase',\n",
       " 'Account_Manager',\n",
       " 'Years',\n",
       " 'Num_Sites',\n",
       " 'Onboard_date',\n",
       " 'Location',\n",
       " 'Company',\n",
       " 'Churn']"
      ]
     },
     "execution_count": 44,
     "metadata": {},
     "output_type": "execute_result"
    }
   ],
   "source": [
    "df.columns"
   ]
  },
  {
   "cell_type": "code",
   "execution_count": 45,
   "metadata": {},
   "outputs": [],
   "source": [
    "my_cols = df.select([\n",
    " 'Age',\n",
    " 'Total_Purchase',\n",
    " 'Years',\n",
    " 'Num_Sites',\n",
    " 'Onboard_date',\n",
    " 'Location',\n",
    " 'Churn'])"
   ]
  },
  {
   "cell_type": "code",
   "execution_count": 46,
   "metadata": {},
   "outputs": [],
   "source": [
    "my_final_data = my_cols.na.drop()"
   ]
  },
  {
   "cell_type": "code",
   "execution_count": 47,
   "metadata": {},
   "outputs": [
    {
     "name": "stdout",
     "output_type": "stream",
     "text": [
      "+----+--------------+-----+---------+-------------------+--------------------+-----+\n",
      "| Age|Total_Purchase|Years|Num_Sites|       Onboard_date|            Location|Churn|\n",
      "+----+--------------+-----+---------+-------------------+--------------------+-----+\n",
      "|42.0|       11066.8| 7.22|      8.0|2013-08-30 07:00:40|10265 Elizabeth M...|    1|\n",
      "|41.0|      11916.22|  6.5|     11.0|2013-08-13 00:38:46|6157 Frank Garden...|    1|\n",
      "|38.0|      12884.75| 6.67|     12.0|2016-06-29 06:20:07|1331 Keith Court ...|    1|\n",
      "|42.0|       8010.76| 6.71|     10.0|2014-04-22 12:43:12|13120 Daniel Moun...|    1|\n",
      "|37.0|       9191.58| 5.56|      9.0|2016-01-19 15:31:15|765 Tricia Row Ka...|    1|\n",
      "|48.0|      10356.02| 5.12|      8.0|2009-03-03 23:13:37|6187 Olson Mounta...|    1|\n",
      "|44.0|      11331.58| 5.23|     11.0|2016-12-05 03:35:43|4846 Savannah Roa...|    1|\n",
      "|32.0|       9885.12| 6.92|      9.0|2006-03-09 14:50:20|25271 Roy Express...|    1|\n",
      "|43.0|       14062.6| 5.46|     11.0|2011-09-29 05:47:23|3725 Caroline Str...|    1|\n",
      "|40.0|       8066.94| 7.11|     11.0|2006-03-28 15:42:45|363 Sandra Lodge ...|    1|\n",
      "|30.0|      11575.37| 5.22|      8.0|2016-11-13 13:13:01|Unit 8120 Box 916...|    1|\n",
      "|45.0|       8771.02| 6.64|     11.0|2015-05-28 12:14:03|Unit 1895 Box 094...|    1|\n",
      "|45.0|       8988.67| 4.84|     11.0|2011-02-16 08:10:47|897 Kelley Overpa...|    1|\n",
      "|40.0|       8283.32|  5.1|     13.0|2012-11-22 05:35:03|11488 Weaver Cape...|    1|\n",
      "|41.0|       6569.87|  4.3|     11.0|2015-03-28 02:13:44|1774 Peter Row Ap...|    1|\n",
      "|38.0|      10494.82| 6.81|     12.0|2015-07-22 08:38:40|45408 David Path ...|    1|\n",
      "|45.0|       8213.41| 7.35|     11.0|2006-09-03 06:13:55|28216 Wright Moun...|    1|\n",
      "|43.0|      11226.88| 8.08|     12.0|2006-10-22 04:42:38|Unit 4948 Box 481...|    1|\n",
      "|53.0|       5515.09| 6.85|      8.0|2015-10-07 00:27:10|69203 Crosby Divi...|    1|\n",
      "|46.0|        8046.4| 5.69|      8.0|2014-11-06 23:47:14|9569 Caldwell Cre...|    1|\n",
      "+----+--------------+-----+---------+-------------------+--------------------+-----+\n",
      "only showing top 20 rows\n",
      "\n"
     ]
    }
   ],
   "source": [
    "my_final_data.show()"
   ]
  },
  {
   "cell_type": "code",
   "execution_count": 48,
   "metadata": {},
   "outputs": [],
   "source": [
    "from pyspark.sql.functions import format_number,dayofmonth,hour,dayofyear,month,year,weekofyear,date_format"
   ]
  },
  {
   "cell_type": "code",
   "execution_count": 49,
   "metadata": {},
   "outputs": [],
   "source": [
    "newdf = my_final_data.withColumn(\"Year\",year(my_final_data['Onboard_Date']))"
   ]
  },
  {
   "cell_type": "code",
   "execution_count": 50,
   "metadata": {},
   "outputs": [
    {
     "name": "stdout",
     "output_type": "stream",
     "text": [
      "+----+--------------+-----+---------+-------------------+--------------------+-----+----+\n",
      "| Age|Total_Purchase|Years|Num_Sites|       Onboard_date|            Location|Churn|Year|\n",
      "+----+--------------+-----+---------+-------------------+--------------------+-----+----+\n",
      "|42.0|       11066.8| 7.22|      8.0|2013-08-30 07:00:40|10265 Elizabeth M...|    1|2013|\n",
      "|41.0|      11916.22|  6.5|     11.0|2013-08-13 00:38:46|6157 Frank Garden...|    1|2013|\n",
      "|38.0|      12884.75| 6.67|     12.0|2016-06-29 06:20:07|1331 Keith Court ...|    1|2016|\n",
      "|42.0|       8010.76| 6.71|     10.0|2014-04-22 12:43:12|13120 Daniel Moun...|    1|2014|\n",
      "|37.0|       9191.58| 5.56|      9.0|2016-01-19 15:31:15|765 Tricia Row Ka...|    1|2016|\n",
      "|48.0|      10356.02| 5.12|      8.0|2009-03-03 23:13:37|6187 Olson Mounta...|    1|2009|\n",
      "|44.0|      11331.58| 5.23|     11.0|2016-12-05 03:35:43|4846 Savannah Roa...|    1|2016|\n",
      "|32.0|       9885.12| 6.92|      9.0|2006-03-09 14:50:20|25271 Roy Express...|    1|2006|\n",
      "|43.0|       14062.6| 5.46|     11.0|2011-09-29 05:47:23|3725 Caroline Str...|    1|2011|\n",
      "|40.0|       8066.94| 7.11|     11.0|2006-03-28 15:42:45|363 Sandra Lodge ...|    1|2006|\n",
      "|30.0|      11575.37| 5.22|      8.0|2016-11-13 13:13:01|Unit 8120 Box 916...|    1|2016|\n",
      "|45.0|       8771.02| 6.64|     11.0|2015-05-28 12:14:03|Unit 1895 Box 094...|    1|2015|\n",
      "|45.0|       8988.67| 4.84|     11.0|2011-02-16 08:10:47|897 Kelley Overpa...|    1|2011|\n",
      "|40.0|       8283.32|  5.1|     13.0|2012-11-22 05:35:03|11488 Weaver Cape...|    1|2012|\n",
      "|41.0|       6569.87|  4.3|     11.0|2015-03-28 02:13:44|1774 Peter Row Ap...|    1|2015|\n",
      "|38.0|      10494.82| 6.81|     12.0|2015-07-22 08:38:40|45408 David Path ...|    1|2015|\n",
      "|45.0|       8213.41| 7.35|     11.0|2006-09-03 06:13:55|28216 Wright Moun...|    1|2006|\n",
      "|43.0|      11226.88| 8.08|     12.0|2006-10-22 04:42:38|Unit 4948 Box 481...|    1|2006|\n",
      "|53.0|       5515.09| 6.85|      8.0|2015-10-07 00:27:10|69203 Crosby Divi...|    1|2015|\n",
      "|46.0|        8046.4| 5.69|      8.0|2014-11-06 23:47:14|9569 Caldwell Cre...|    1|2014|\n",
      "+----+--------------+-----+---------+-------------------+--------------------+-----+----+\n",
      "only showing top 20 rows\n",
      "\n"
     ]
    }
   ],
   "source": [
    "newdf.show()"
   ]
  },
  {
   "cell_type": "code",
   "execution_count": 51,
   "metadata": {},
   "outputs": [],
   "source": [
    "final_df = newdf.drop(\"Onboard_date\")"
   ]
  },
  {
   "cell_type": "code",
   "execution_count": 52,
   "metadata": {},
   "outputs": [
    {
     "name": "stdout",
     "output_type": "stream",
     "text": [
      "root\n",
      " |-- Age: double (nullable = true)\n",
      " |-- Total_Purchase: double (nullable = true)\n",
      " |-- Years: double (nullable = true)\n",
      " |-- Num_Sites: double (nullable = true)\n",
      " |-- Location: string (nullable = true)\n",
      " |-- Churn: integer (nullable = true)\n",
      " |-- Year: integer (nullable = true)\n",
      "\n"
     ]
    }
   ],
   "source": [
    "final_df.printSchema()"
   ]
  },
  {
   "cell_type": "code",
   "execution_count": 53,
   "metadata": {},
   "outputs": [
    {
     "data": {
      "text/plain": [
       "Row(Age=42.0, Total_Purchase=11066.8, Years=7.22, Num_Sites=8.0, Location='10265 Elizabeth Mission Barkerburgh, AK 89518', Churn=1, Year=2013)"
      ]
     },
     "execution_count": 53,
     "metadata": {},
     "output_type": "execute_result"
    }
   ],
   "source": [
    "final_df.head()"
   ]
  },
  {
   "cell_type": "code",
   "execution_count": 54,
   "metadata": {},
   "outputs": [],
   "source": [
    "from pyspark.sql.functions import udf\n",
    "from pyspark.sql.types import StringType\n",
    "from pyspark.sql.functions import split, col"
   ]
  },
  {
   "cell_type": "code",
   "execution_count": 55,
   "metadata": {},
   "outputs": [],
   "source": [
    "extract_location_udf = udf(lambda x: ' '.join(x.split()[-2:]), StringType())\n",
    "final_df = final_df.withColumn(\"Location\", extract_location_udf(col(\"Location\")))"
   ]
  },
  {
   "cell_type": "code",
   "execution_count": 56,
   "metadata": {},
   "outputs": [
    {
     "name": "stdout",
     "output_type": "stream",
     "text": [
      "+----+--------------+-----+---------+-------------+-----+----+\n",
      "| Age|Total_Purchase|Years|Num_Sites|     Location|Churn|Year|\n",
      "+----+--------------+-----+---------+-------------+-----+----+\n",
      "|42.0|       11066.8| 7.22|      8.0|     AK 89518|    1|2013|\n",
      "|41.0|      11916.22|  6.5|     11.0|     RI 17756|    1|2013|\n",
      "|38.0|      12884.75| 6.67|     12.0|     DE 90114|    1|2016|\n",
      "|42.0|       8010.76| 6.71|     10.0|WY 30645-4695|    1|2014|\n",
      "|37.0|       9191.58| 5.56|      9.0|     MH 71730|    1|2016|\n",
      "|48.0|      10356.02| 5.12|      8.0|     PR 74359|    1|2009|\n",
      "|44.0|      11331.58| 5.23|     11.0|IA 87713-3460|    1|2016|\n",
      "|32.0|       9885.12| 6.92|      9.0|FM 59852-6150|    1|2006|\n",
      "|43.0|       14062.6| 5.46|     11.0|     MA 82059|    1|2011|\n",
      "|40.0|       8066.94| 7.11|     11.0|WI 51655-7561|    1|2006|\n",
      "|30.0|      11575.37| 5.22|      8.0|     AA 43432|    1|2016|\n",
      "|45.0|       8771.02| 6.64|     11.0|     AA 40249|    1|2015|\n",
      "|45.0|       8988.67| 4.84|     11.0|     AZ 44793|    1|2011|\n",
      "|40.0|       8283.32|  5.1|     13.0|WI 63417-8544|    1|2012|\n",
      "|41.0|       6569.87|  4.3|     11.0|     MT 18782|    1|2015|\n",
      "|38.0|      10494.82| 6.81|     12.0|HI 54903-6698|    1|2015|\n",
      "|45.0|       8213.41| 7.35|     11.0|DE 40999-2369|    1|2006|\n",
      "|43.0|      11226.88| 8.08|     12.0|     AP 42669|    1|2006|\n",
      "|53.0|       5515.09| 6.85|      8.0|     CO 87064|    1|2015|\n",
      "|46.0|        8046.4| 5.69|      8.0|     RI 30637|    1|2014|\n",
      "+----+--------------+-----+---------+-------------+-----+----+\n",
      "only showing top 20 rows\n",
      "\n"
     ]
    }
   ],
   "source": [
    "final_df.show()"
   ]
  },
  {
   "cell_type": "markdown",
   "metadata": {},
   "source": [
    "# PIPELINE"
   ]
  },
  {
   "cell_type": "code",
   "execution_count": 57,
   "metadata": {},
   "outputs": [],
   "source": [
    "from pyspark.ml.feature import VectorAssembler, StringIndexer, OneHotEncoder, VectorIndexer"
   ]
  },
  {
   "cell_type": "code",
   "execution_count": 58,
   "metadata": {},
   "outputs": [
    {
     "name": "stdout",
     "output_type": "stream",
     "text": [
      "root\n",
      " |-- Age: double (nullable = true)\n",
      " |-- Total_Purchase: double (nullable = true)\n",
      " |-- Years: double (nullable = true)\n",
      " |-- Num_Sites: double (nullable = true)\n",
      " |-- Location: string (nullable = true)\n",
      " |-- Churn: integer (nullable = true)\n",
      " |-- Year: integer (nullable = true)\n",
      "\n"
     ]
    }
   ],
   "source": [
    "final_df.printSchema()"
   ]
  },
  {
   "cell_type": "code",
   "execution_count": 59,
   "metadata": {},
   "outputs": [
    {
     "data": {
      "text/plain": [
       "['Age', 'Total_Purchase', 'Years', 'Num_Sites', 'Location', 'Churn', 'Year']"
      ]
     },
     "execution_count": 59,
     "metadata": {},
     "output_type": "execute_result"
    }
   ],
   "source": [
    "final_df.columns"
   ]
  },
  {
   "cell_type": "code",
   "execution_count": 60,
   "metadata": {},
   "outputs": [],
   "source": [
    "location_indexer = StringIndexer(inputCol='Location',outputCol='LocationIndex') \n",
    "location_incoder = OneHotEncoder(inputCol='LocationIndex', outputCol='LocationVec')"
   ]
  },
  {
   "cell_type": "code",
   "execution_count": 61,
   "metadata": {},
   "outputs": [],
   "source": [
    "# assembler = VectorAssembler(inputCols=['Age', 'Total_Purchase', 'Years', 'Num_Sites', 'Year', 'LocationVec'],\n",
    "#                             outputCol='features')\n",
    "\n",
    "assembler = VectorAssembler(inputCols=['Age', 'Total_Purchase', 'Years', 'Num_Sites', 'Year'], outputCol='features')"
   ]
  },
  {
   "cell_type": "code",
   "execution_count": 62,
   "metadata": {},
   "outputs": [],
   "source": [
    "from pyspark.ml.classification import LogisticRegression"
   ]
  },
  {
   "cell_type": "code",
   "execution_count": 63,
   "metadata": {},
   "outputs": [],
   "source": [
    "from pyspark.ml import Pipeline"
   ]
  },
  {
   "cell_type": "code",
   "execution_count": 64,
   "metadata": {},
   "outputs": [],
   "source": [
    "log_reg = LogisticRegression(featuresCol='features', labelCol='Churn')"
   ]
  },
  {
   "cell_type": "code",
   "execution_count": 65,
   "metadata": {},
   "outputs": [],
   "source": [
    "# pipeline = Pipeline(stages=[location_indexer,\n",
    "#                             location_incoder,\n",
    "#                             assembler,\n",
    "#                             log_reg])\n",
    "\n",
    "pipeline = Pipeline(stages=[assembler,\n",
    "                            log_reg])"
   ]
  },
  {
   "cell_type": "markdown",
   "metadata": {},
   "source": [
    "# SPLIT TRAIN TEST"
   ]
  },
  {
   "cell_type": "code",
   "execution_count": 66,
   "metadata": {},
   "outputs": [
    {
     "name": "stdout",
     "output_type": "stream",
     "text": [
      "+----+--------------+-----+---------+-------------+-----+----+\n",
      "| Age|Total_Purchase|Years|Num_Sites|     Location|Churn|Year|\n",
      "+----+--------------+-----+---------+-------------+-----+----+\n",
      "|42.0|       11066.8| 7.22|      8.0|     AK 89518|    1|2013|\n",
      "|41.0|      11916.22|  6.5|     11.0|     RI 17756|    1|2013|\n",
      "|38.0|      12884.75| 6.67|     12.0|     DE 90114|    1|2016|\n",
      "|42.0|       8010.76| 6.71|     10.0|WY 30645-4695|    1|2014|\n",
      "|37.0|       9191.58| 5.56|      9.0|     MH 71730|    1|2016|\n",
      "|48.0|      10356.02| 5.12|      8.0|     PR 74359|    1|2009|\n",
      "|44.0|      11331.58| 5.23|     11.0|IA 87713-3460|    1|2016|\n",
      "|32.0|       9885.12| 6.92|      9.0|FM 59852-6150|    1|2006|\n",
      "|43.0|       14062.6| 5.46|     11.0|     MA 82059|    1|2011|\n",
      "|40.0|       8066.94| 7.11|     11.0|WI 51655-7561|    1|2006|\n",
      "|30.0|      11575.37| 5.22|      8.0|     AA 43432|    1|2016|\n",
      "|45.0|       8771.02| 6.64|     11.0|     AA 40249|    1|2015|\n",
      "|45.0|       8988.67| 4.84|     11.0|     AZ 44793|    1|2011|\n",
      "|40.0|       8283.32|  5.1|     13.0|WI 63417-8544|    1|2012|\n",
      "|41.0|       6569.87|  4.3|     11.0|     MT 18782|    1|2015|\n",
      "|38.0|      10494.82| 6.81|     12.0|HI 54903-6698|    1|2015|\n",
      "|45.0|       8213.41| 7.35|     11.0|DE 40999-2369|    1|2006|\n",
      "|43.0|      11226.88| 8.08|     12.0|     AP 42669|    1|2006|\n",
      "|53.0|       5515.09| 6.85|      8.0|     CO 87064|    1|2015|\n",
      "|46.0|        8046.4| 5.69|      8.0|     RI 30637|    1|2014|\n",
      "+----+--------------+-----+---------+-------------+-----+----+\n",
      "only showing top 20 rows\n",
      "\n"
     ]
    }
   ],
   "source": [
    "final_df.show()"
   ]
  },
  {
   "cell_type": "code",
   "execution_count": 67,
   "metadata": {},
   "outputs": [],
   "source": [
    "train_data , test_data = final_df.randomSplit([0.7,0.3])"
   ]
  },
  {
   "cell_type": "code",
   "execution_count": 68,
   "metadata": {},
   "outputs": [],
   "source": [
    "fit_model = pipeline.fit(train_data)"
   ]
  },
  {
   "cell_type": "code",
   "execution_count": 70,
   "metadata": {},
   "outputs": [],
   "source": [
    "results = fit_model.transform(test_data)"
   ]
  },
  {
   "cell_type": "markdown",
   "metadata": {},
   "source": [
    "# EVALUATION"
   ]
  },
  {
   "cell_type": "code",
   "execution_count": 71,
   "metadata": {},
   "outputs": [],
   "source": [
    "from pyspark.ml.evaluation import BinaryClassificationEvaluator"
   ]
  },
  {
   "cell_type": "code",
   "execution_count": 73,
   "metadata": {},
   "outputs": [],
   "source": [
    "eval = BinaryClassificationEvaluator(rawPredictionCol='prediction', labelCol='Churn')"
   ]
  },
  {
   "cell_type": "code",
   "execution_count": 74,
   "metadata": {},
   "outputs": [],
   "source": [
    "AUC = eval.evaluate(results)"
   ]
  },
  {
   "cell_type": "code",
   "execution_count": 75,
   "metadata": {},
   "outputs": [
    {
     "data": {
      "text/plain": [
       "0.8035236396074933"
      ]
     },
     "execution_count": 75,
     "metadata": {},
     "output_type": "execute_result"
    }
   ],
   "source": [
    "AUC"
   ]
  },
  {
   "cell_type": "markdown",
   "metadata": {},
   "source": [
    "# PREDICTING ON NEW DATASET"
   ]
  },
  {
   "cell_type": "code",
   "execution_count": 76,
   "metadata": {},
   "outputs": [],
   "source": [
    "final_lr_model = pipeline.fit(final_df)"
   ]
  },
  {
   "cell_type": "code",
   "execution_count": 77,
   "metadata": {},
   "outputs": [],
   "source": [
    "new_customers = spark.read.csv('new_customers.csv', inferSchema=True, header=True)"
   ]
  },
  {
   "cell_type": "code",
   "execution_count": 78,
   "metadata": {},
   "outputs": [
    {
     "name": "stdout",
     "output_type": "stream",
     "text": [
      "root\n",
      " |-- Names: string (nullable = true)\n",
      " |-- Age: double (nullable = true)\n",
      " |-- Total_Purchase: double (nullable = true)\n",
      " |-- Account_Manager: integer (nullable = true)\n",
      " |-- Years: double (nullable = true)\n",
      " |-- Num_Sites: double (nullable = true)\n",
      " |-- Onboard_date: timestamp (nullable = true)\n",
      " |-- Location: string (nullable = true)\n",
      " |-- Company: string (nullable = true)\n",
      "\n"
     ]
    }
   ],
   "source": [
    "new_customers.printSchema()"
   ]
  },
  {
   "cell_type": "code",
   "execution_count": 79,
   "metadata": {},
   "outputs": [],
   "source": [
    "new_customers = new_customers.withColumn(\"Year\",year(new_customers['Onboard_Date']))"
   ]
  },
  {
   "cell_type": "code",
   "execution_count": 80,
   "metadata": {},
   "outputs": [
    {
     "name": "stdout",
     "output_type": "stream",
     "text": [
      "root\n",
      " |-- Names: string (nullable = true)\n",
      " |-- Age: double (nullable = true)\n",
      " |-- Total_Purchase: double (nullable = true)\n",
      " |-- Account_Manager: integer (nullable = true)\n",
      " |-- Years: double (nullable = true)\n",
      " |-- Num_Sites: double (nullable = true)\n",
      " |-- Onboard_date: timestamp (nullable = true)\n",
      " |-- Location: string (nullable = true)\n",
      " |-- Company: string (nullable = true)\n",
      " |-- Year: integer (nullable = true)\n",
      "\n"
     ]
    }
   ],
   "source": [
    "new_customers.printSchema()"
   ]
  },
  {
   "cell_type": "code",
   "execution_count": 81,
   "metadata": {},
   "outputs": [],
   "source": [
    "test_new_customers = assembler.transform(new_customers)"
   ]
  },
  {
   "cell_type": "code",
   "execution_count": 82,
   "metadata": {},
   "outputs": [
    {
     "name": "stdout",
     "output_type": "stream",
     "text": [
      "root\n",
      " |-- Names: string (nullable = true)\n",
      " |-- Age: double (nullable = true)\n",
      " |-- Total_Purchase: double (nullable = true)\n",
      " |-- Account_Manager: integer (nullable = true)\n",
      " |-- Years: double (nullable = true)\n",
      " |-- Num_Sites: double (nullable = true)\n",
      " |-- Onboard_date: timestamp (nullable = true)\n",
      " |-- Location: string (nullable = true)\n",
      " |-- Company: string (nullable = true)\n",
      " |-- Year: integer (nullable = true)\n",
      " |-- features: vector (nullable = true)\n",
      "\n"
     ]
    }
   ],
   "source": [
    "test_new_customers.printSchema()"
   ]
  },
  {
   "cell_type": "code",
   "execution_count": 83,
   "metadata": {},
   "outputs": [
    {
     "name": "stdout",
     "output_type": "stream",
     "text": [
      "+--------------+----+--------------+---------------+-----+---------+-------------------+--------------------+----------------+----+--------------------+\n",
      "|         Names| Age|Total_Purchase|Account_Manager|Years|Num_Sites|       Onboard_date|            Location|         Company|Year|            features|\n",
      "+--------------+----+--------------+---------------+-----+---------+-------------------+--------------------+----------------+----+--------------------+\n",
      "| Andrew Mccall|37.0|       9935.53|              1| 7.71|      8.0|2011-08-29 18:37:54|38612 Johnny Stra...|        King Ltd|2011|[37.0,9935.53,7.7...|\n",
      "|Michele Wright|23.0|       7526.94|              1| 9.28|     15.0|2013-07-22 18:19:54|21083 Nicole Junc...|   Cannon-Benson|2013|[23.0,7526.94,9.2...|\n",
      "|  Jeremy Chang|65.0|         100.0|              1|  1.0|     15.0|2006-12-11 07:48:13|085 Austin Views ...|Barron-Robertson|2006|[65.0,100.0,1.0,1...|\n",
      "|Megan Ferguson|32.0|        6487.5|              0|  9.4|     14.0|2016-10-28 05:32:13|922 Wright Branch...|   Sexton-Golden|2016|[32.0,6487.5,9.4,...|\n",
      "|  Taylor Young|32.0|      13147.71|              1| 10.0|      8.0|2012-03-20 00:36:46|Unit 0789 Box 073...|        Wood LLC|2012|[32.0,13147.71,10...|\n",
      "| Jessica Drake|22.0|       8445.26|              1| 3.46|     14.0|2011-02-04 19:29:27|1148 Tina Straven...|   Parks-Robbins|2011|[22.0,8445.26,3.4...|\n",
      "+--------------+----+--------------+---------------+-----+---------+-------------------+--------------------+----------------+----+--------------------+\n",
      "\n"
     ]
    }
   ],
   "source": [
    "test_new_customers.show()"
   ]
  },
  {
   "cell_type": "code",
   "execution_count": 87,
   "metadata": {},
   "outputs": [],
   "source": [
    "final_results = final_lr_model.transform(new_customers)"
   ]
  },
  {
   "cell_type": "code",
   "execution_count": 88,
   "metadata": {},
   "outputs": [
    {
     "name": "stdout",
     "output_type": "stream",
     "text": [
      "+--------------+----+--------------+---------------+-----+---------+-------------------+--------------------+----------------+----+--------------------+--------------------+--------------------+----------+\n",
      "|         Names| Age|Total_Purchase|Account_Manager|Years|Num_Sites|       Onboard_date|            Location|         Company|Year|            features|       rawPrediction|         probability|prediction|\n",
      "+--------------+----+--------------+---------------+-----+---------+-------------------+--------------------+----------------+----+--------------------+--------------------+--------------------+----------+\n",
      "| Andrew Mccall|37.0|       9935.53|              1| 7.71|      8.0|2011-08-29 18:37:54|38612 Johnny Stra...|        King Ltd|2011|[37.0,9935.53,7.7...|[2.42135286076803...|[0.91844114068004...|       0.0|\n",
      "|Michele Wright|23.0|       7526.94|              1| 9.28|     15.0|2013-07-22 18:19:54|21083 Nicole Junc...|   Cannon-Benson|2013|[23.0,7526.94,9.2...|[-5.9772226044143...|[0.00252944528770...|       1.0|\n",
      "|  Jeremy Chang|65.0|         100.0|              1|  1.0|     15.0|2006-12-11 07:48:13|085 Austin Views ...|Barron-Robertson|2006|[65.0,100.0,1.0,1...|[-3.4636260880728...|[0.03036508817005...|       1.0|\n",
      "|Megan Ferguson|32.0|        6487.5|              0|  9.4|     14.0|2016-10-28 05:32:13|922 Wright Branch...|   Sexton-Golden|2016|[32.0,6487.5,9.4,...|[-5.3152623064813...|[0.00489194036494...|       1.0|\n",
      "|  Taylor Young|32.0|      13147.71|              1| 10.0|      8.0|2012-03-20 00:36:46|Unit 0789 Box 073...|        Wood LLC|2012|[32.0,13147.71,10...|[1.29647320283972...|[0.78524083051710...|       0.0|\n",
      "| Jessica Drake|22.0|       8445.26|              1| 3.46|     14.0|2011-02-04 19:29:27|1148 Tina Straven...|   Parks-Robbins|2011|[22.0,8445.26,3.4...|[-1.4416030196525...|[0.19129723452148...|       1.0|\n",
      "+--------------+----+--------------+---------------+-----+---------+-------------------+--------------------+----------------+----+--------------------+--------------------+--------------------+----------+\n",
      "\n"
     ]
    }
   ],
   "source": [
    "final_results.show()"
   ]
  },
  {
   "cell_type": "code",
   "execution_count": null,
   "metadata": {},
   "outputs": [],
   "source": []
  }
 ],
 "metadata": {
  "anaconda-cloud": {},
  "kernelspec": {
   "display_name": "Python 3",
   "language": "python",
   "name": "python3"
  },
  "language_info": {
   "codemirror_mode": {
    "name": "ipython",
    "version": 3
   },
   "file_extension": ".py",
   "mimetype": "text/x-python",
   "name": "python",
   "nbconvert_exporter": "python",
   "pygments_lexer": "ipython3",
   "version": "3.10.12"
  }
 },
 "nbformat": 4,
 "nbformat_minor": 0
}
